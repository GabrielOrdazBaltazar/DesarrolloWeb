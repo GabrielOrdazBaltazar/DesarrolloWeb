{
 "cells": [
  {
   "cell_type": "markdown",
   "metadata": {},
   "source": [
    "**Conceptos basicos de bases de datos**\n",
    "\n",
    "SERVIDOR: Es un programa que provee serviciops de bases de datos a otros programas u otras computadoras\n",
    "\n",
    "HOST NAME: Ubicacion en la red del servidor en la base de datos (Dominio o IP)\n",
    "\n",
    "USER:En nuestro caso sera root pro puee cambiarse este es el nomre del ususario\n",
    "\n",
    "PASSWORD: Es la contrasenia que tiene nuestro cliente para poder conectarnos a nuestro servidor \n",
    "\n",
    "BASE DE DATOS: Conjuento de datos perteneciente a un mismo contexto y almacenados sistematicamente para su posterior uso\n",
    "\n",
    "TABLAS: Se refiere a un tipo de modelado de datos donde se guardatan los datos recogidos\n",
    "\n",
    "CAMPO: Corresponde al nombre de la columna\n",
    "\n",
    "REGISTRO: Corresponde a cada fila que compone la tabla"
   ]
  },
  {
   "cell_type": "raw",
   "metadata": {
    "vscode": {
     "languageId": "raw"
    }
   },
   "source": [
    "#Dar de lata el sericio de apache desde powershel\n",
    "\n",
    "cd.. \n",
    "cd..\n",
    "cd .\\Apache24\\\n",
    "cd .\\bin\\\n",
    ".\\httpd.exe\n",
    "\n",
    "#instalar como servicio apache \n",
    ".\\httpd.exe -k install\n",
    "\n"
   ]
  },
  {
   "cell_type": "markdown",
   "metadata": {},
   "source": [
    "**NAVEGACION BASICA EN MYSQL**"
   ]
  },
  {
   "cell_type": "raw",
   "metadata": {
    "vscode": {
     "languageId": "raw"
    }
   },
   "source": [
    "#Ingresar a  MYSQL desde cmd\n",
    "C:\\Users\\tachy>mysql -u root -p\n",
    "\n",
    "#Ver todas las bases de datos disponibles \n",
    "mysql> show databases\n",
    "    -> ;\n",
    "+--------------------+\n",
    "| Database           |\n",
    "+--------------------+\n",
    "| information_schema |\n",
    "| mysql              |\n",
    "| performance_schema |\n",
    "| sakila             |\n",
    "| sys                |\n",
    "| world              |\n",
    "+--------------------+\n",
    "\n",
    "#Crear una base de datos\n",
    "mysql> create database appsalon;\n",
    "\n",
    "#Usar una base de datos existente \n",
    "mysql> use appsalon;\n",
    "\n",
    "#Ver todas las tablas creadas en esa base de datos\n",
    "mysql> show tables;\n",
    "\n",
    "#Crear un tabla en la base de datos \n",
    "mysql> create table Servicios(\n",
    "    -> id_servicio int(11) not null auto_increment,\n",
    "    -> nombre varchar(60) not null,\n",
    "    -> precio decimal(7,2) not null,\n",
    "    -> primary key(id_servicio)\n",
    "    -> );\n",
    "\n",
    "#Ver las caracteristicas y elemetos de una tabla \n",
    "mysql> describe servicios;\n",
    "+-------------+--------------+------+-----+---------+----------------+\n",
    "| Field       | Type         | Null | Key | Default | Extra          |\n",
    "+-------------+--------------+------+-----+---------+----------------+\n",
    "| id_servicio | int          | NO   | PRI | NULL    | auto_increment |\n",
    "| nombre      | varchar(60)  | NO   |     | NULL    |                |\n",
    "| precio      | decimal(7,2) | NO   |     | NULL    |                |\n",
    "+-------------+--------------+------+-----+---------+----------------+\n",
    "\n"
   ]
  },
  {
   "cell_type": "markdown",
   "metadata": {},
   "source": [
    "**CRUD**"
   ]
  },
  {
   "cell_type": "markdown",
   "metadata": {},
   "source": [
    "**CREATE**"
   ]
  },
  {
   "cell_type": "raw",
   "metadata": {
    "vscode": {
     "languageId": "raw"
    }
   },
   "source": [
    "#CREATE Insertar datos a una tabla \n",
    "mysql> insert into servicios (nombre, precio) values (\"corte de cabello de adulto\",80);\n",
    "\n",
    "#Insertar mas de un elemento a una tabla \n",
    "mysql> insert into servicios(nombre, precio) values\n",
    "    -> (\"peinado mujer\" ,80),\n",
    "    -> (\"peinado hombre\" ,60);\n"
   ]
  },
  {
   "cell_type": "markdown",
   "metadata": {},
   "source": [
    "**READ**"
   ]
  },
  {
   "cell_type": "raw",
   "metadata": {
    "vscode": {
     "languageId": "raw"
    }
   },
   "source": [
    "#READ Leer los datos de una tabla \n",
    "\n",
    "mysql> select * from servicios;\n",
    "+-------------+----------------------------+--------+\n",
    "| id_servicio | nombre                     | precio |\n",
    "+-------------+----------------------------+--------+\n",
    "|           1 | corte de cabello de adulto |  80.00 |\n",
    "|           2 | corte de cabello ninio     |  60.00 |\n",
    "|           3 | peinado hombre             |  60.00 |\n",
    "|           4 | peinado mujer              |  80.00 |\n",
    "+-------------+----------------------------+--------+\n",
    "\n",
    "#Ver solo una columna de la base de datos\n",
    "mysql> select nombre from servicios;\n",
    "+----------------------------+\n",
    "| nombre                     |\n",
    "+----------------------------+\n",
    "| corte de cabello de adulto |\n",
    "| corte de cabello ninio     |\n",
    "| peinado hombre             |\n",
    "| peinado mujer              |\n",
    "+----------------------------+\n",
    "\n",
    "#leer datos especificos \n",
    "mysql> select nombre,precio from servicios;\n",
    "+----------------------------+--------+\n",
    "| nombre                     | precio |\n",
    "+----------------------------+--------+\n",
    "| corte de cabello de adulto |  80.00 |\n",
    "| corte de cabello ninio     |  60.00 |\n",
    "| peinado hombre             |  60.00 |\n",
    "| peinado mujer              |  80.00 |\n",
    "+----------------------------+--------+\n",
    "\n",
    "\n",
    "#Ordenando los datos conforme al precio \n",
    "mysql> select id_servicio,nombre, precio from servicios order by precio;\n",
    "+-------------+----------------------------+--------+\n",
    "| id_servicio | nombre                     | precio |\n",
    "+-------------+----------------------------+--------+\n",
    "|           2 | corte de cabello ninio     |  60.00 |\n",
    "|           3 | peinado hombre             |  60.00 |\n",
    "|           1 | corte de cabello de adulto |  80.00 |\n",
    "|           4 | peinado mujer              |  80.00 |\n",
    "+-------------+----------------------------+--------+\n",
    "\n",
    "#Ordenando de mayor a menor \n",
    "mysql> select id_servicio,nombre, precio from servicios order by precio desc;\n",
    "+-------------+----------------------------+--------+\n",
    "| id_servicio | nombre                     | precio |\n",
    "+-------------+----------------------------+--------+\n",
    "|           1 | corte de cabello de adulto |  80.00 |\n",
    "|           4 | peinado mujer              |  80.00 |\n",
    "|           2 | corte de cabello ninio     |  60.00 |\n",
    "|           3 | peinado hombre             |  60.00 |\n",
    "+-------------+----------------------------+--------+\n",
    "\n",
    "#Ordenando de menor a mayor \n",
    "mysql> select id_servicio,nombre, precio from servicios order by precio asc;\n",
    "+-------------+----------------------------+--------+\n",
    "| id_servicio | nombre                     | precio |\n",
    "+-------------+----------------------------+--------+\n",
    "|           2 | corte de cabello ninio     |  60.00 |\n",
    "|           3 | peinado hombre             |  60.00 |\n",
    "|           1 | corte de cabello de adulto |  80.00 |\n",
    "|           4 | peinado mujer              |  80.00 |\n",
    "+-------------+----------------------------+--------+\n",
    "\n",
    "#Ordenar deacuerdo al id de forma decendente y limitar los resultados a dos \n",
    "mysql> select id_servicio,nombre, precio from servicios order by id_servicio desc limit 2;\n",
    "+-------------+----------------+--------+\n",
    "| id_servicio | nombre         | precio |\n",
    "+-------------+----------------+--------+\n",
    "|           4 | peinado mujer  |  80.00 |\n",
    "|           3 | peinado hombre |  60.00 |\n",
    "+-------------+----------------+--------+\n",
    "\n",
    "#Obtener el resultado deacuerdo a un id en especifico \n",
    "mysql> select id_servicio, nombre, precio from servicios where id_servicio = 3;\n",
    "+-------------+----------------+--------+\n",
    "| id_servicio | nombre         | precio |\n",
    "+-------------+----------------+--------+\n",
    "|           3 | peinado hombre |  60.00 |\n",
    "+-------------+----------------+--------+"
   ]
  },
  {
   "cell_type": "markdown",
   "metadata": {},
   "source": [
    "**UPDATE**"
   ]
  },
  {
   "cell_type": "raw",
   "metadata": {
    "vscode": {
     "languageId": "raw"
    }
   },
   "source": [
    "#UPDATE elegimos la tabla a actualizar y el campo cuyo valor cambiaremos con el id indicado\n",
    "mysql> update servicios set precio = 70 where id_servicio = 2;\n",
    "\n",
    "\n",
    "mysql> update servicios set nombre = \"Corte de cabello de ninio actualizado\" where id_servicio = 2;\n"
   ]
  },
  {
   "cell_type": "markdown",
   "metadata": {},
   "source": [
    "**DELETE**"
   ]
  },
  {
   "cell_type": "raw",
   "metadata": {
    "vscode": {
     "languageId": "raw"
    }
   },
   "source": [
    "#Eliminar de la tabla servicios la columna con id =1 \n",
    "mysql> delete from servicios where id_servicio = 1;\n",
    "\n",
    "#Eliminar de la tabla servicios la columna con id = 4\n",
    "mysql> delete from servicios where id_servicio = 4;"
   ]
  },
  {
   "cell_type": "markdown",
   "metadata": {},
   "source": [
    "**Agregar una tabla a una bd**"
   ]
  },
  {
   "cell_type": "raw",
   "metadata": {
    "vscode": {
     "languageId": "raw"
    }
   },
   "source": [
    "#Cambiamos la tabla servicios y se agrega la columna descripcion \n",
    "mysql> alter table servicios add descripcion varchar(100) not null;\n",
    "\n",
    "#Cambiamos el nombre de la tabla y la cantidad de caracteres \n",
    "mysql> alter table servicios change descripcion  nuevonombre varchar(11) not null;"
   ]
  },
  {
   "cell_type": "markdown",
   "metadata": {},
   "source": [
    "**Eliminar una columna en una tabla**"
   ]
  },
  {
   "cell_type": "raw",
   "metadata": {
    "vscode": {
     "languageId": "raw"
    }
   },
   "source": [
    "mysql> alter table servicios drop column descripcion;"
   ]
  },
  {
   "cell_type": "markdown",
   "metadata": {},
   "source": [
    "**ELIMINAR UNA TABLA**"
   ]
  },
  {
   "cell_type": "raw",
   "metadata": {
    "vscode": {
     "languageId": "raw"
    }
   },
   "source": [
    "mysql> DROP TABLE servicios;"
   ]
  },
  {
   "cell_type": "markdown",
   "metadata": {},
   "source": [
    "**Creando tablas de nuevo**"
   ]
  },
  {
   "cell_type": "raw",
   "metadata": {
    "vscode": {
     "languageId": "raw"
    }
   },
   "source": [
    "mysql> create table servicios(\n",
    "    -> id int(11) not null auto_increment,\n",
    "    -> nombre varchar(60) not null,\n",
    "    -> precio decimal(6,2) not null,\n",
    "    -> primary key (id)\n",
    "    -> );\n",
    "\n",
    "\n",
    "mysql> create table reservaciones(\n",
    "    -> id int(11) not null auto_increment,\n",
    "    -> nombre varchar(60) not null,\n",
    "    -> apellido varchar(60) not null,\n",
    "    -> hora time default null,\n",
    "    -> fecha date default null,\n",
    "    -> servicios varchar(255) not null,\n",
    "    -> primary key(id)\n",
    "    -> );"
   ]
  },
  {
   "cell_type": "markdown",
   "metadata": {},
   "source": [
    "**Insertar datos a las tablas**"
   ]
  },
  {
   "cell_type": "raw",
   "metadata": {
    "vscode": {
     "languageId": "raw"
    }
   },
   "source": [
    "mysql>         INSERT INTO reservaciones (nombre, apellido, hora, fecha, servicios) VALUES\n",
    "    ->         ('Juan', 'De la torre', '10:30:00', '2021-06-28', 'Corte de Cabello Adulto, Corte de Barba' ),\n",
    "    ->         ('Antonio', 'Hernandez', '14:00:00', '2021-07-30', 'Corte de Cabello Niño'),\n",
    "    ->         ('Pedro', 'Juarez', '20:00:00', '2021-06-25', 'Corte de Cabello Adulto'),\n",
    "    ->         ('Mireya', 'Perez', '19:00:00', '2021-06-25', 'Peinado Mujer'),\n",
    "    ->         ('Jose', 'Castillo', '14:00:00', '2021-07-30', 'Peinado Hombre'),\n",
    "    ->         ('Maria', 'Diaz', '14:30:00', '2021-06-25', 'Tinte'),\n",
    "    ->         ('Clara', 'Duran', '10:00:00', '2021-07-01', 'Uñas, Tinte, Corte de Cabello Mujer'),\n",
    "    ->         ('Miriam', 'Ibañez', '09:00:00', '2021-07-01', 'Tinte'),\n",
    "    ->         ('Samuel', 'Reyes', '10:00:00', '2021-07-02', 'Tratamiento Capilar'),\n",
    "    ->         ('Joaquin', 'Muñoz', '19:00:00', '2021-06-28', 'Tratamiento Capilar'),\n",
    "    ->         ('Julia', 'Lopez', '08:00:00', '2021-06-25', 'Tinte'),\n",
    "    ->         ('Carmen', 'Ruiz', '20:00:00', '2021-07-01', 'Uñas'),\n",
    "    ->         ('Isaac', 'Sala', '09:00:00', '2021-07-30', 'Corte de Cabello Adulto'),\n",
    "    ->         ('Ana', 'Preciado', '14:30:00', '2021-06-28', 'Corte de Cabello Mujer'),\n",
    "    ->         ('Sergio', 'Iglesias', '10:00:00', '2021-07-02', 'Corte de Cabello Adulto'),\n",
    "    ->         ('Aina', 'Acosta', '14:00:00', '2021-07-30', 'Uñas'),\n",
    "    ->         ('Carlos', 'Ortiz', '20:00:00', '2021-06-25', 'Corte de Cabello Niño'),\n",
    "    ->         ('Roberto', 'Serrano', '10:00:00', '2021-07-30', 'Corte de Cabello Niño'),\n",
    "    ->         ('Carlota', 'Perez', '14:00:00', '2021-07-01', 'Uñas'),\n",
    "    ->         ('Ana Maria', 'Igleias', '14:00:00', '2021-07-02', 'Uñas, Tinte'),\n",
    "    ->         ('Jaime', 'Jimenez', '14:00:00', '2021-07-01', 'Corte de Cabello Niño'),\n",
    "    ->         ('Roberto', 'Torres', '10:00:00', '2021-07-02', 'Corte de Cabello Adulto'),\n",
    "    ->         ('Juan', 'Cano', '09:00:00', '2021-07-02', 'Corte de Cabello Niño'),\n",
    "    ->         ('Santiago', 'Hernandez', '19:00:00', '2021-06-28', 'Corte de Cabello Niño'),\n",
    "    ->         ('Berta', 'Gomez', '09:00:00', '2021-07-01', 'Uñas'),\n",
    "    ->         ('Miriam', 'Dominguez', '19:00:00', '2021-06-28', 'Corte de Cabello Niño'),\n",
    "    ->         ('Antonio', 'Castro', '14:30:00', '2021-07-02', 'Corte de Cabello Adulti'),\n",
    "    ->         ('Hugo', 'Alonso', '09:00:00', '2021-06-28', 'Corte de Barba'),\n",
    "    ->         ('Victoria', 'Perez', '10:00:00', '2021-07-02', 'Uñas, Tinte'),\n",
    "    ->         ('Jimena', 'Leon', '10:30:00', '2021-07-30', 'Uñas, Corte de Cabello Mujer'),\n",
    "    ->         ('Raquel' ,'Peña', '20:30:00', '2021-06-25', 'Corte de Cabello Mujer');\n",
    "\n",
    "\n",
    "    mysql>     INSERT INTO servicios ( nombre, precio ) VALUES\n",
    "    ->         ('Corte de Cabello Niño', 60),\n",
    "    ->         ('Corte de Cabello Hombre', 80),\n",
    "    ->         ('Corte de Barba', 60),\n",
    "    ->         ('Peinado Mujer', 80),\n",
    "    ->         ('Peinado Hombre', 60),\n",
    "    ->         ('Tinte',300),\n",
    "    ->         ('Uñas', 400),\n",
    "    ->         ('Lavado de Cabello', 50),\n",
    "    ->         ('Tratamiento Capilar', 150);"
   ]
  },
  {
   "cell_type": "markdown",
   "metadata": {},
   "source": [
    "**SELECTORES POR CONDICIONALES**"
   ]
  },
  {
   "cell_type": "raw",
   "metadata": {
    "vscode": {
     "languageId": "raw"
    }
   },
   "source": [
    "#Mayor que \n",
    "mysql> select * from servicios where precio > 90;\n",
    "+----+---------------------+--------+\n",
    "| id | nombre              | precio |\n",
    "+----+---------------------+--------+\n",
    "|  6 | Tinte               | 300.00 |\n",
    "|  7 | Uñas                | 400.00 |\n",
    "|  9 | Tratamiento Capilar | 150.00 |\n",
    "+----+---------------------+--------+\n",
    "\n",
    "#Mayor igual \n",
    "mysql> select * from servicios where precio >= 80;\n",
    "+----+-------------------------+--------+\n",
    "| id | nombre                  | precio |\n",
    "+----+-------------------------+--------+\n",
    "|  2 | Corte de Cabello Hombre |  80.00 |\n",
    "|  4 | Peinado Mujer           |  80.00 |\n",
    "|  6 | Tinte                   | 300.00 |\n",
    "|  7 | Uñas                    | 400.00 |\n",
    "|  9 | Tratamiento Capilar     | 150.00 |\n",
    "+----+-------------------------+--------+\n",
    "\n",
    "#Elegir valores dentro de un rango\n",
    "mysql> select * from servicios where precio between 100 and 200;\n",
    "+----+---------------------+--------+\n",
    "| id | nombre              | precio |\n",
    "+----+---------------------+--------+\n",
    "|  9 | Tratamiento Capilar | 150.00 |\n",
    "+----+---------------------+--------+\n",
    "\n",
    "#Suma a todos los usuarios que tienen citas en las mismas fechas y las muestra\n",
    "mysql> select count(id), fecha\n",
    "    -> from reservaciones\n",
    "    -> group by fecha\n",
    "    -> order by count(id) desc;\n",
    "+-----------+------------+\n",
    "| count(id) | fecha      |\n",
    "+-----------+------------+\n",
    "|         7 | 2021-07-02 |\n",
    "|         6 | 2021-06-28 |\n",
    "|         6 | 2021-07-30 |\n",
    "|         6 | 2021-06-25 |\n",
    "|         6 | 2021-07-01 |\n",
    "+-----------+------------+\n",
    "\n",
    "#Suma todas las cantidades de una columna y la muestra \n",
    "mysql> select sum(precio) as totalServicios from servicios;\n",
    "+----------------+\n",
    "| totalServicios |\n",
    "+----------------+\n",
    "|        1240.00 |\n",
    "+----------------+\n",
    "1 row in set (0.00 sec)\n",
    "\n",
    "#Selecciona la minima cantidad de una columna \n",
    "mysql> select min(precio) as precioMenor from servicios;\n",
    "+-------------+\n",
    "| precioMenor |\n",
    "+-------------+\n",
    "|       50.00 |\n",
    "+-------------+\n",
    "1 row in set (0.00 sec)\n",
    "\n",
    "#Selecciona la maxima cantidad de una columna \n",
    "mysql> select max(precio)  as  precioMenor from servicios;\n",
    "+-------------+\n",
    "| precioMenor |\n",
    "+-------------+\n",
    "|      400.00 |\n",
    "+-------------+\n",
    "\n",
    "#Busca la palabra \"corte\" al principio de cada enunciado\n",
    "mysql> select * from servicios where nombre like \"corte%\";\n",
    "+----+-------------------------+--------+\n",
    "| id | nombre                  | precio |\n",
    "+----+-------------------------+--------+\n",
    "|  1 | Corte de Cabello Niño   |  60.00 |\n",
    "|  2 | Corte de Cabello Hombre |  80.00 |\n",
    "|  3 | Corte de Barba          |  60.00 |\n",
    "+----+-------------------------+--------+\n",
    "3 rows in set (0.00 sec)\n",
    "\n",
    "\n",
    "#Busca la palabra \"lavado\" al final de una oracion \n",
    "mysql> select * from servicios where nombre like \"%cabello\";\n",
    "+----+-------------------+--------+\n",
    "| id | nombre            | precio |\n",
    "+----+-------------------+--------+\n",
    "|  8 | Lavado de Cabello |  50.00 |\n",
    "+----+-------------------+--------+\n",
    "1 row in set (0.00 sec)\n",
    "\n",
    "#Busca la palabra \"cabello\" en cualquier seccion \n",
    "mysql> select * from servicios where nombre like \"%cabello%\";\n",
    "+----+-------------------------+--------+\n",
    "| id | nombre                  | precio |\n",
    "+----+-------------------------+--------+\n",
    "|  1 | Corte de Cabello Niño   |  60.00 |\n",
    "|  2 | Corte de Cabello Hombre |  80.00 |\n",
    "|  8 | Lavado de Cabello       |  50.00 |\n",
    "+----+-------------------------+--------+\n",
    "3 rows in set (0.00 sec)\n",
    "\n",
    "#Une los datos de dos columnas, despues se muetran en una tabla temporal que llamamos \"nombreCompleto\"\n",
    "mysql> select concat(nombre , \" \",apellido) as nombreCompleto from reservaciones;\n",
    "+--------------------+\n",
    "| nombreCompleto     |\n",
    "+--------------------+\n",
    "| Juan De la torre   |\n",
    "| Antonio Hernandez  |\n",
    "| Pedro Juarez       |\n",
    "| Mireya Perez       |\n",
    "| Jose Castillo      |\n",
    "| Maria Diaz         |\n",
    "| Clara Duran        |\n",
    "| Miriam Ibañez      |\n",
    "| Samuel Reyes       |\n",
    "| Joaquin Muñoz      |\n",
    "| Julia Lopez        |\n",
    "| Carmen Ruiz        |\n",
    "| Isaac Sala         |\n",
    "| Ana Preciado       |\n",
    "| Sergio Iglesias    |\n",
    "| Aina Acosta        |\n",
    "| Carlos Ortiz       |\n",
    "| Roberto Serrano    |\n",
    "| Carlota Perez      |\n",
    "| Ana Maria Igleias  |\n",
    "| Jaime Jimenez      |\n",
    "| Roberto Torres     |\n",
    "| Juan Cano          |\n",
    "| Santiago Hernandez |\n",
    "| Berta Gomez        |\n",
    "| Miriam Dominguez   |\n",
    "| Antonio Castro     |\n",
    "| Hugo Alonso        |\n",
    "| Victoria Perez     |\n",
    "| Jimena Leon        |\n",
    "| Raquel Peña        |\n",
    "+--------------------+\n",
    "\n",
    "#Buscamos en la tabla reservaciones cuando el nombre concatenado de las columnas nombre y apellido es igual al buscado con %ana preciado%\n",
    "mysql> select * from reservaciones\n",
    "    -> where concat(nombre, \" \",apellido) like \"%ana preciado%\";\n",
    "+----+--------+----------+----------+------------+------------------------+\n",
    "| id | nombre | apellido | hora     | fecha      | servicios              |\n",
    "+----+--------+----------+----------+------------+------------------------+\n",
    "| 14 | Ana    | Preciado | 14:30:00 | 2021-06-28 | Corte de Cabello Mujer |\n",
    "+----+--------+----------+----------+------------+------------------------+\n",
    "1 row in set (0.00 sec)\n",
    "\n",
    "#Muestra las coincidencias de hora y fecha cuyo valor de columnas concatenadas nombre y apellido de el valor de anna preciado\n",
    "mysql> select hora,fecha, concat(nombre,\" \",apellido) as \"Nombre Completo\"\n",
    "    -> from reservaciones\n",
    "    -> where concat(nombre, \" \",apellido)\n",
    "    -> like \"%ana preciado%\";\n",
    "+----------+------------+-----------------+\n",
    "| hora     | fecha      | Nombre Completo |\n",
    "+----------+------------+-----------------+\n",
    "| 14:30:00 | 2021-06-28 | Ana Preciado    |\n",
    "+----------+------------+-----------------+\n",
    "\n",
    "#Selecciona mas de un id al mismo tiempo \n",
    "mysql> select*from reservaciones where id in(1,3);\n",
    "+----+--------+-------------+----------+------------+-----------------------------------------+\n",
    "| id | nombre | apellido    | hora     | fecha      | servicios                               |\n",
    "+----+--------+-------------+----------+------------+-----------------------------------------+\n",
    "|  1 | Juan   | De la torre | 10:30:00 | 2021-06-28 | Corte de Cabello Adulto, Corte de Barba |\n",
    "|  3 | Pedro  | Juarez      | 20:00:00 | 2021-06-25 | Corte de Cabello Adulto                 |\n",
    "+----+--------+-------------+----------+------------+-----------------------------------------+\n",
    "\n",
    "#Selecciona de la tabla reservaciones los elementos guardados con la fecha que cumpla la condicion\n",
    "mysql> select * from reservaciones where fecha =\"2021-06-28\";\n",
    "+----+----------+-------------+----------+------------+-----------------------------------------+\n",
    "| id | nombre   | apellido    | hora     | fecha      | servicios                               |\n",
    "+----+----------+-------------+----------+------------+-----------------------------------------+\n",
    "|  1 | Juan     | De la torre | 10:30:00 | 2021-06-28 | Corte de Cabello Adulto, Corte de Barba |\n",
    "| 10 | Joaquin  | Muñoz       | 19:00:00 | 2021-06-28 | Tratamiento Capilar                     |\n",
    "| 14 | Ana      | Preciado    | 14:30:00 | 2021-06-28 | Corte de Cabello Mujer                  |\n",
    "| 24 | Santiago | Hernandez   | 19:00:00 | 2021-06-28 | Corte de Cabello Niño                   |\n",
    "| 26 | Miriam   | Dominguez   | 19:00:00 | 2021-06-28 | Corte de Cabello Niño                   |\n",
    "| 28 | Hugo     | Alonso      | 09:00:00 | 2021-06-28 | Corte de Barba                          |\n",
    "+----+----------+-------------+----------+------------+-----------------------------------------+\n",
    "\n",
    "#Condicioal and que permite meter mas de una condicion en el mismo Query\n",
    "mysql> select * from reservaciones where fecha =\"2021-06-28\" and id = 1;\n",
    "+----+--------+-------------+----------+------------+-----------------------------------------+\n",
    "| id | nombre | apellido    | hora     | fecha      | servicios                               |\n",
    "+----+--------+-------------+----------+------------+-----------------------------------------+\n",
    "|  1 | Juan   | De la torre | 10:30:00 | 2021-06-28 | Corte de Cabello Adulto, Corte de Barba |\n",
    "+----+--------+-------------+----------+------------+-----------------------------------------+"
   ]
  },
  {
   "cell_type": "markdown",
   "metadata": {},
   "source": [
    "**Normalizacion de basesde datos**\n",
    "\n",
    "1)Cada columna debe tener un solo valor y no debe haber valores repetidos\n",
    "\n",
    "2)Llaves primarias compuestas \n",
    "\n",
    "3)Cada tabla debe representar solo las caracteriosticas de un elemento en concreto "
   ]
  },
  {
   "cell_type": "markdown",
   "metadata": {},
   "source": [
    "**Tipos de relaciones entre tablas SQL**\n",
    "\n",
    "![Imagen de conexiones en bases de datos](relacionesEnBasesDeDatos.png)\n",
    "\n",
    "Un cliente puede tener muchas citas pero una cita solo pude tener un cliete.\n",
    "\n",
    "![Imagen de conexiones en bases de datos](relacionUnoAMuchos.png)\n"
   ]
  },
  {
   "cell_type": "markdown",
   "metadata": {},
   "source": [
    "**Relacion de uno a muchos**\n",
    "\n",
    "Un alumno puede tener un salon pero un salon puede tener varios alumnos:\n",
    "![Imagen de conexiones en bases de datos](uno_a_muchos.png)\n"
   ]
  },
  {
   "cell_type": "raw",
   "metadata": {
    "vscode": {
     "languageId": "raw"
    }
   },
   "source": [
    "alter table nombreTabla add constraint nombreLlave_FK foreign key (campoTabla)\n",
    "reference nombreOtraTabla (campoOtraTabla) on delete cascade on update;"
   ]
  },
  {
   "cell_type": "raw",
   "metadata": {
    "vscode": {
     "languageId": "raw"
    }
   },
   "source": [
    "create database ecuela;\n",
    "use  escuela;\n",
    "\n",
    "create table salon(\n",
    "    id int not null primary key auto_increment,\n",
    "    grado int not null,\n",
    "    grupo varchar(2) not null\n",
    ");\n",
    "\n",
    "create table alumnos(\n",
    "    id int not null primary key auto_increment,\n",
    "    id_salon int not null,\n",
    "    nombre varchar(100) not null,\n",
    "    edad int(2) not null\n",
    ");\n",
    "\n",
    "\n",
    "#Creando la llave foranea de uno a muchos\n",
    "alter table alumnos add constraint alumno_salon_fk foreign key(id_salon) \n",
    "references salon(id) on delete cascade on update cascade;\n",
    "\n",
    "#Insertando valores en salon\n",
    "insert into salon(grupo,grado) values ('A',1),('B',1),('C',1);\n",
    "\n",
    "select * from salon;\n",
    "+----+-------+-------+\n",
    "| id | grado | grupo |\n",
    "+----+-------+-------+\n",
    "|  1 |     1 | A     |\n",
    "|  2 |     1 | B     |\n",
    "|  3 |     1 | C     |\n",
    "+----+-------+-------+\n",
    "\n",
    "#Insertar alumnos\n",
    "insert into alumnos(id_salon,nombre,edad) values ('1','Gabriel',24),('2','Rodolfo',27),('3','Ximena',21);\n",
    "select * from alumnos;\n",
    "+----+----------+---------+------+\n",
    "| id | id_salon | nombre  | edad |\n",
    "+----+----------+---------+------+\n",
    "|  1 |        1 | Gabriel |   24 |\n",
    "|  2 |        2 | Rodolfo |   27 |\n",
    "|  3 |        3 | Ximena  |   21 |\n",
    "|  4 |        1 | Gabriel |   24 |\n",
    "|  5 |        2 | Rodolfo |   27 |\n",
    "|  6 |        3 | Ximena  |   21 |\n",
    "+----+----------+---------+------+\n",
    "\n",
    "#Borramos el salon 1 y por las llaves foraneas se eliminaran los alumnos con salon 1\n",
    "delete from salon where id = 1;\n",
    "\n",
    "select * from alumnos;\n",
    "+----+----------+---------+------+\n",
    "| id | id_salon | nombre  | edad |\n",
    "+----+----------+---------+------+\n",
    "|  2 |        2 | Rodolfo |   27 |\n",
    "|  3 |        3 | Ximena  |   21 |\n",
    "|  5 |        2 | Rodolfo |   27 |\n",
    "|  6 |        3 | Ximena  |   21 |\n",
    "+----+----------+---------+------+"
   ]
  },
  {
   "cell_type": "markdown",
   "metadata": {},
   "source": [
    "otra forma de agregar la llave foranea es con restrict que nos permite evitar que un elemento se borre si es llave foranea de una tabla que tiene elementos guardados"
   ]
  },
  {
   "cell_type": "raw",
   "metadata": {
    "vscode": {
     "languageId": "raw"
    }
   },
   "source": [
    "#Borramos la tabla escuela\n",
    "drop database escuela;\n",
    "\n",
    "#la creamos de nuevo \n",
    "create database escuela;\n",
    "use escuela;\n",
    "\n",
    "create table salon(\n",
    "    id int not null primary key auto_increment,\n",
    "    grado int not null,\n",
    "    grupo varchar(2) not null\n",
    ");\n",
    "\n",
    "create table alumnos(\n",
    "    id int not null primary key auto_increment,\n",
    "    id_salon int not null,\n",
    "    nombre varchar(100) not null,\n",
    "    edad int(2) not null\n",
    ");\n",
    "\n",
    "\n",
    "#Creando la llave foranea de uno a muchos\n",
    "alter table alumnos add constraint alumno_salon_fk foreign key(id_salon) \n",
    "references salon(id) on delete restrict on update restrict;\n",
    "\n",
    "#Insertando valores en salon\n",
    "insert into salon(grupo,grado) values ('A',1),('B',1),('C',1);\n",
    "\n",
    "select*from salon;\n",
    "+----+-------+-------+\n",
    "| id | grado | grupo |\n",
    "+----+-------+-------+\n",
    "|  1 |     1 | A     |\n",
    "|  2 |     1 | B     |\n",
    "|  3 |     1 | C     |\n",
    "\n",
    "\n",
    "#Insertar alumnos\n",
    "insert into alumnos(id_salon,nombre,edad) values ('1','Gabriel',24),('2','Rodolfo',27),('3','Ximena',21);\n",
    "select * from alumnos;\n",
    "\n",
    "select*from alumnos;\n",
    "+----+----------+---------+------+\n",
    "| id | id_salon | nombre  | edad |\n",
    "+----+----------+---------+------+\n",
    "|  1 |        1 | Gabriel |   24 |\n",
    "|  2 |        2 | Rodolfo |   27 |\n",
    "|  3 |        3 | Ximena  |   21 |\n",
    "+----+----------+---------+------+\n",
    "\n",
    "#Borramos el salon 1 y por las llaves foraneas, esta accion no se permitira ya que existen datos con esas referencia\n",
    "delete from salon where id = 1;\n",
    "ERROR 1451 (23000): Cannot delete or update a parent row: a foreign key constraint fails (`escuela`.`alumnos`, CONSTRAINT `alumno_salon_fk` FOREIGN KEY (`id_salon`) REFERENCES `salon` (`id`) ON DELETE RESTRICT ON UPDATE RESTRICT)\n",
    "\n"
   ]
  },
  {
   "cell_type": "markdown",
   "metadata": {},
   "source": [
    "Otra forma es con el condicional set null que logra hacer que cuando se borra un registro que es llave foranea de otra tabla esta se coloca en null"
   ]
  },
  {
   "cell_type": "raw",
   "metadata": {
    "vscode": {
     "languageId": "raw"
    }
   },
   "source": [
    "#Borramos la tabla escuela\n",
    "drop database escuela;\n",
    "\n",
    "#la creamos de nuevo \n",
    "create database escuela;\n",
    "use escuela;\n",
    "\n",
    "create table salon(\n",
    "    id int not null primary key auto_increment,\n",
    "    grado int not null,\n",
    "    grupo varchar(2) not null\n",
    ");\n",
    "\n",
    "create table alumnos(\n",
    "    id int not null primary key auto_increment,\n",
    "    id_salon int(2),\n",
    "    nombre varchar(100) not null,\n",
    "    edad int(2) not null\n",
    ");\n",
    "\n",
    "\n",
    "#Creando la llave foranea de uno a muchos\n",
    "alter table alumnos add constraint alumno_salon_fk foreign key(id_salon) \n",
    "references salon(id) on delete set null on update set null;\n",
    "\n",
    "#Insertando valores en salon\n",
    "insert into salon(grupo,grado) values ('A',1),('B',1),('C',1);\n",
    "\n",
    "select*from salon;\n",
    "+----+-------+-------+\n",
    "| id | grado | grupo |\n",
    "+----+-------+-------+\n",
    "|  1 |     1 | A     |\n",
    "|  2 |     1 | B     |\n",
    "|  3 |     1 | C     |\n",
    "\n",
    "\n",
    "#Insertar alumnos\n",
    "insert into alumnos(id_salon,nombre,edad) values ('1','Gabriel',24),('2','Rodolfo',27),('3','Ximena',21);\n",
    "select * from alumnos;\n",
    "\n",
    "select*from alumnos;\n",
    "+----+----------+---------+------+\n",
    "| id | id_salon | nombre  | edad |\n",
    "+----+----------+---------+------+\n",
    "|  1 |        1 | Gabriel |   24 |\n",
    "|  2 |        2 | Rodolfo |   27 |\n",
    "|  3 |        3 | Ximena  |   21 |\n",
    "+----+----------+---------+------+\n",
    "\n",
    "#Borramos el salon 1 y por las llaves foraneas, esta accion no se permitira ya que existen datos con esas referencia\n",
    "delete from salon where id = 1;\n",
    "\n",
    "select*from alumnos;\n",
    "+----+----------+---------+------+\n",
    "| id | id_salon | nombre  | edad |\n",
    "+----+----------+---------+------+\n",
    "|  1 |     NULL | Gabriel |   24 |\n",
    "|  2 |        2 | Rodolfo |   27 |\n",
    "|  3 |        3 | Ximena  |   21 |\n",
    "+----+----------+---------+------+\n"
   ]
  },
  {
   "cell_type": "markdown",
   "metadata": {},
   "source": [
    "**Relacion de muchos a muchos**\n",
    "\n",
    "Un alumno puede teber varios salones pero un salon tambien puede tener varios alumnos:\n",
    "![Imagen de conexiones en bases de datos](muchos_a_muchos.png)"
   ]
  },
  {
   "cell_type": "markdown",
   "metadata": {},
   "source": [
    "**Relaciones de uno a uno**\n",
    "\n",
    "Un intendente de encarga de limpiar solo un salon: \n",
    "\n",
    "![image.png](uno_a_uno.png)"
   ]
  },
  {
   "cell_type": "markdown",
   "metadata": {},
   "source": [
    "**Para este ejercicio haremos la siguiente BD**\n",
    "\n",
    "![Imagen de conexiones en bases de datos](PrimeraBD.png)\n"
   ]
  },
  {
   "cell_type": "raw",
   "metadata": {
    "vscode": {
     "languageId": "raw"
    }
   },
   "source": [
    "mysql> use appsalon;\n",
    "\n",
    "#Creamos la tabla clientes \n",
    "mysql> create table clientes(\n",
    "    -> id int(11) not null auto_increment,\n",
    "    -> nombre varchar(60) not null,\n",
    "    -> apellido varchar(60) not null,\n",
    "    -> telefono varchar(10) not null,\n",
    "    -> email varchar(30) not null unique,\n",
    "    -> primary key(id)\n",
    "    -> );\n",
    "\n",
    "#Insertamos un valor \n",
    "mysql> insert into clientes(nombre,apellido,telefono,email) values (\"Gabriel\",\"Ordaz\",\"7224085733\",\"tachyordaz123@gmail.com\");\n",
    "\n",
    "#Creamos la tabla servicios\n",
    "mysql> create table servicios(\n",
    "    -> id int(11) not null auto_increment,\n",
    "    -> nombre varchar(60) not null,\n",
    "    -> precio decimal(6,2) not null,\n",
    "    -> primary key (id)\n",
    "    -> );\n",
    "\n",
    "#Insertamos algunos valores \n",
    "    mysql>     INSERT INTO servicios ( nombre, precio ) VALUES\n",
    "    ->         ('Corte de Cabello Niño', 60),\n",
    "    ->         ('Corte de Cabello Hombre', 80),\n",
    "    ->         ('Corte de Barba', 60),\n",
    "    ->         ('Peinado Mujer', 80),\n",
    "    ->         ('Peinado Hombre', 60),\n",
    "    ->         ('Tinte',300),\n",
    "    ->         ('Uñas', 400),\n",
    "    ->         ('Lavado de Cabello', 50),\n",
    "    ->         ('Tratamiento Capilar', 150);\n",
    "\n",
    "\n",
    "#RELACION DE UNO A MUCHOS \n",
    "#Creamos la tabla citas y la relacionamos con la tabla clientes (una cita puede tener solo un cliente pero un \n",
    "#cliente puede tener muchas citas)\n",
    "\n",
    "mysql> create table citas (\n",
    "    -> id int(11) not null auto_increment,\n",
    "    -> fecha date not null,\n",
    "    -> hora time default null,\n",
    "    -> clienteId int(11) not null,\n",
    "    -> primary key(id),\n",
    "\n",
    "    #Hacemos la relacion entre la tabla citas y la tabla clientes\n",
    "    #Indicamos la variable de la tabla que es una llave foranesa\n",
    "    -> key clienteId(clienteId),\n",
    "    #Nombremos la relacion \n",
    "    -> constraint cliente_FK\n",
    "    #Indicamos que la columna elegida esta relacionada con la con la columna id de la tabla clientes \n",
    "    -> foreign key(clienteId)\n",
    "    -> references clientes(id)\n",
    "    -> );\n",
    "\n",
    "\n",
    "#Insertamos un valor a la tabla citas teniendo en cuenta que el id del cliente debe existir en la tabla clientes \n",
    "#para que el valor sea valido \n",
    "mysql> insert into citas(fecha,hora,clienteId) values (\"2024-07-28\",\"10:30\",1);\n",
    "\n",
    "mysql> select*from citas;\n",
    "+----+------------+----------+-----------+\n",
    "| id | fecha      | hora     | clienteId |\n",
    "+----+------------+----------+-----------+\n",
    "|  1 | 2024-07-28 | 10:30:00 |         1 |\n",
    "+----+------------+----------+-----------+\n",
    "\n",
    "#Selecciona y une las columnas que coinciden en el valor del id entre las tablas citas y clientes\n",
    "mysql> select*from citas\n",
    "    -> inner join clientes on clientes.id=citas.clienteId;\n",
    "+----+------------+----------+-----------+----+---------+----------+------------+-------------------------+\n",
    "| id | fecha      | hora     | clienteId | id | nombre  | apellido | telefono   | email                   |\n",
    "+----+------------+----------+-----------+----+---------+----------+------------+-------------------------+\n",
    "|  1 | 2024-07-28 | 10:30:00 |         1 |  1 | Gabriel | Ordaz    | 7224085733 | tachyordaz123@gmail.com |\n",
    "+----+------------+----------+-----------+----+---------+----------+------------+-------------------------+\n",
    "\n",
    "#El prefijo left hace lo mismo que inner ya que busca las relaciones desde citas y despues coincidencias en clientes\n",
    "mysql> select*from citas left join clientes on clientes.id=citas.clienteId;\n",
    "+----+------------+----------+-----------+------+---------+----------+------------+-------------------------+\n",
    "| id | fecha      | hora     | clienteId | id   | nombre  | apellido | telefono   | email                   |\n",
    "+----+------------+----------+-----------+------+---------+----------+------------+-------------------------+\n",
    "|  1 | 2024-07-28 | 10:30:00 |         1 |    1 | Gabriel | Ordaz    | 7224085733 | tachyordaz123@gmail.com |\n",
    "+----+------------+----------+-----------+------+---------+----------+------------+-------------------------+\n",
    "\n",
    "#El prefijo right primero busca en clientes y despues en citas \n",
    "mysql> select*from citas right join clientes on clientes.id=citas.clienteId;\n",
    "+------+------------+----------+-----------+----+---------+----------+------------+-------------------------+\n",
    "| id   | fecha      | hora     | clienteId | id | nombre  | apellido | telefono   | email                   |\n",
    "+------+------------+----------+-----------+----+---------+----------+------------+-------------------------+\n",
    "|    1 | 2024-07-28 | 10:30:00 |         1 |  1 | Gabriel | Ordaz    | 7224085733 | tachyordaz123@gmail.com |\n",
    "| NULL | NULL       | NULL     |      NULL |  2 | Karen   | Perez    | 7224085733 | Karen@gmail.com         |\n",
    "+------+------------+----------+-----------+----+---------+----------+------------+-------------------------+\n",
    "\n",
    "#Creamos la tabla intermedia CitasServicios\n",
    "mysql> create table CitasServicios(\n",
    "    -> id int(11) auto_increment,\n",
    "    -> citaId int(11) not null,\n",
    "    -> servicioId int(11) not null,\n",
    "    -> primary key(id),\n",
    "    -> key citaId (citaId),\n",
    "    -> constraint citas_FK\n",
    "    -> foreign key (citaId)\n",
    "    -> references citas (id),\n",
    "    -> key servicioId (servicioId),\n",
    "    -> constraint servicio_FK\n",
    "    -> foreign key (servicioId)\n",
    "    -> references servicios (id)\n",
    "    -> );\n",
    "\n",
    "#Insertamos datos \n",
    "mysql> insert into citasservicios (citaId,servicioId) values(1,8);\n",
    "\n",
    "mysql> select*from citasservicios\n",
    "    -> left join citas on citas.id = citasservicios.citaId\n",
    "    -> left join servicios on servicios.id = citasservicios.servicioId;\n",
    "+----+--------+------------+------+------------+----------+-----------+------+-------------------+--------+\n",
    "| id | citaId | servicioId | id   | fecha      | hora     | clienteId | id   | nombre            | precio |\n",
    "+----+--------+------------+------+------------+----------+-----------+------+-------------------+--------+\n",
    "|  2 |      1 |          8 |    1 | 2024-07-28 | 10:30:00 |         1 |    8 | Lavado de Cabello |  50.00 |\n",
    "+----+--------+------------+------+------------+----------+-----------+------+-------------------+--------+\n",
    "\n",
    "\n",
    "#para llamar a todas las tablas relacionadas\n",
    "mysql> select*from citasservicios\n",
    "    -> left join citas on citas.id=citasservicios.citaId\n",
    "    -> left join clientes on citas.clienteid=clientes.id\n",
    "    -> left join servicios on servicios.id=citasservicios.servicioId;\n",
    "+----+--------+------------+------+------------+----------+-----------+------+---------+----------+------------+-------------------------+------+-------------------+--------+\n",
    "| id | citaId | servicioId | id   | fecha      | hora     | clienteId | id   | nombre  | apellido | telefono   | email                   | id   | nombre            | precio |\n",
    "+----+--------+------------+------+------------+----------+-----------+------+---------+----------+------------+-------------------------+------+-------------------+--------+\n",
    "|  2 |      1 |          8 |    1 | 2024-07-28 | 10:30:00 |         1 |    1 | Gabriel | Ordaz    | 7224085733 | tachyordaz123@gmail.com |    8 | Lavado de Cabello |  50.00 |\n",
    "|  3 |      1 |          3 |    1 | 2024-07-28 | 10:30:00 |         1 |    1 | Gabriel | Ordaz    | 7224085733 | tachyordaz123@gmail.com |    3 | Corte de Barba    |  60.00 |\n",
    "|  4 |      1 |          4 |    1 | 2024-07-28 | 10:30:00 |         1 |    1 | Gabriel | Ordaz    | 7224085733 | tachyordaz123@gmail.com |    4 | Peinado Mujer     |  80.00 |\n",
    "+----+--------+------------+------+------------+----------+-----------+------+---------+----------+------------+-------------------------+------+-------------------+--------+\n"
   ]
  },
  {
   "cell_type": "markdown",
   "metadata": {},
   "source": [
    "**Variables en MySQL**\n",
    "\n",
    "Las variables se usan para pasar de un valor de una instruccion SQL a otra isntruccion SQL. Para hacer esto,almacena el valor en una veriable definida por el ususario de MYSQL en la primera declaracion y se refiere a ella en las declaraciones siguientes. Para crear una variable definida por el usuario utilice el formato @nombre_variable, donde nombre_variable consta de caracteres alfanumericos. L longitud maxima de la variable definida por el usuario es de 64 caracteres a partir de Mysql 5.7.5 las variables son definidas por el usuario no distinguen entre mayusculas y minusculas. Significa que @id y @ID son iguales"
   ]
  },
  {
   "cell_type": "markdown",
   "metadata": {},
   "source": [
    "--Declarar una variable: \n",
    "set @nombre_variable=5;\n",
    "--Leer una variable \n",
    "select @nombre_variable as alias_variable"
   ]
  }
 ],
 "metadata": {
  "language_info": {
   "name": "python"
  }
 },
 "nbformat": 4,
 "nbformat_minor": 2
}
