{
 "cells": [
  {
   "cell_type": "markdown",
   "metadata": {},
   "source": [
    "**Que es PHP**\n",
    "\n",
    "Significa Personal Home Page y es un un procesador de textos\n",
    "\n",
    "No es un lenguaje compilado si no que se ejecuta en scrips \n",
    "\n",
    "Realiza cosas que html no puede\n",
    "\n",
    "**VENTAJAS** \n",
    "\n",
    "Es gratis y open source \n",
    "\n",
    "Multilataforma \n",
    "\n",
    "Diseniado para Web \n",
    "\n",
    "Funciones para conectar a bases de datos ya definidas \n",
    "\n",
    "Puede ser o no orientado a objetos "
   ]
  },
  {
   "cell_type": "markdown",
   "metadata": {},
   "source": [
    "**Para ejecutar un archivo php desde VsCode**"
   ]
  },
  {
   "cell_type": "code",
   "execution_count": null,
   "metadata": {
    "vscode": {
     "languageId": "plaintext"
    }
   },
   "outputs": [],
   "source": [
    "#Desde la consola \n",
    "php -S localhost:3000"
   ]
  },
  {
   "cell_type": "markdown",
   "metadata": {},
   "source": [
    "**Inicio del Curso**"
   ]
  },
  {
   "cell_type": "markdown",
   "metadata": {},
   "source": [
    "**Formas de mostrar un mensaje en php**"
   ]
  },
  {
   "cell_type": "code",
   "execution_count": null,
   "metadata": {
    "vscode": {
     "languageId": "plaintext"
    }
   },
   "outputs": [],
   "source": [
    "<?php \n",
    "    //Libreria para agregar estilos\n",
    "    include 'includes/header.php';\n",
    "\n",
    "    //Formas de imprimir un mesnaje en php\n",
    "    echo(\"Hola Mundo\");\n",
    "\n",
    "    print \"Hola mundo2\";\n",
    "\n",
    "    print_r(\"Hola mundo\");\n",
    "\n",
    "    //Este muestra las propiedades del atributo\n",
    "    var_dump(\"hola mundo\");\n",
    "    \n",
    "?>   "
   ]
  },
  {
   "cell_type": "markdown",
   "metadata": {},
   "source": [
    "**Variables y constantes en PHP**"
   ]
  },
  {
   "cell_type": "code",
   "execution_count": null,
   "metadata": {
    "vscode": {
     "languageId": "plaintext"
    }
   },
   "outputs": [],
   "source": [
    "<?php \n",
    "    //Libreria para agregar estilos\n",
    "    include 'includes/header.php';\n",
    "\n",
    "    //Para crear una variables \n",
    "    $nombre = \"Gabriel\";\n",
    "    //Imprimir el valor de una variables \n",
    "    echo $nombre;\n",
    "    var_dump($nombre);\n",
    "\n",
    "    //Para crear una constante\n",
    "    define('constante',\"Este es el valor de la constante\");\n",
    "    //Para imprimir una constante lo hacemos sin el signo de $\n",
    "    echo constante;\n",
    "\n",
    "    //Otra forma para crar una constante \n",
    "    const constante2 = \"Hola soy una constante\";\n",
    "    echo constante2;\n",
    "\n",
    "    include 'includes/footer.php';\n",
    "?>   "
   ]
  },
  {
   "cell_type": "markdown",
   "metadata": {},
   "source": [
    "**Tipos de datos**"
   ]
  },
  {
   "cell_type": "code",
   "execution_count": null,
   "metadata": {
    "vscode": {
     "languageId": "plaintext"
    }
   },
   "outputs": [],
   "source": [
    "<?php \n",
    "    //Libreria para agregar estilos\n",
    "    include 'includes/header.php';\n",
    "    //Booleano \n",
    "    $logueado = true;\n",
    "    var_dump($logueado);\n",
    "\n",
    "    //Enteros\n",
    "    $numero = 34;\n",
    "    var_dump($numero);\n",
    "\n",
    "    //Flotantes \n",
    "    $flotante = 200.5;\n",
    "    var_dump($fotante);\n",
    "\n",
    "    //String \n",
    "    $nombre = \"Gabriel\";\n",
    "    var_dump($nombre);\n",
    "\n",
    "    //Arreglos \n",
    "    $array =[];\n",
    "    var_dump($array);\n",
    "\n",
    "\n",
    "    include 'includes/footer.php';\n",
    "?>    "
   ]
  },
  {
   "cell_type": "markdown",
   "metadata": {},
   "source": [
    "**Operadores**"
   ]
  },
  {
   "cell_type": "code",
   "execution_count": null,
   "metadata": {
    "vscode": {
     "languageId": "plaintext"
    }
   },
   "outputs": [],
   "source": [
    "<?php \n",
    "    //Libreria para agregar estilos\n",
    "    include 'includes/header.php';\n",
    "\n",
    "    $numero1=20;\n",
    "    $numero2=10;\n",
    "\n",
    "    //sumar\n",
    "    echo($numero1+$numero2);\n",
    "\n",
    "    //Salto de linea \n",
    "    echo \"<br>\";\n",
    "\n",
    "    //restar\n",
    "    echo($numero1-$numero2);\n",
    "\n",
    "    echo \"<br>\";\n",
    "\n",
    "    //Multiplicar\n",
    "    echo ($numero1*$numero2);\n",
    "\n",
    "    echo \"<br>\";\n",
    "\n",
    "    //Dividir \n",
    "    echo ($numero1/$numero2);\n",
    "\n",
    "    echo \"<br>\";\n",
    "    \n",
    "    //Multiplicar cierta cantidad de veces \n",
    "    echo 2 ** 3;\n",
    "    include 'includes/footer.php';\n",
    "?>    "
   ]
  },
  {
   "cell_type": "markdown",
   "metadata": {},
   "source": [
    "**Comparadores**"
   ]
  },
  {
   "cell_type": "code",
   "execution_count": null,
   "metadata": {
    "vscode": {
     "languageId": "plaintext"
    }
   },
   "outputs": [],
   "source": [
    "<?php \n",
    "    //Libreria para agregar estilos\n",
    "    include 'includes/header.php';\n",
    "\n",
    "    $numero1 = 20;\n",
    "    $numero2 = 30;\n",
    "    $numero3 = 30;\n",
    "    $numero4 = \"30\";\n",
    "\n",
    "    //Mayor que \n",
    "    var_dump($numero1 > $numero2);\n",
    "    echo\"<br>\";\n",
    "\n",
    "    //Menor que \n",
    "    var_dump($numero1 < $numero2);\n",
    "    echo\"<br>\";\n",
    "\n",
    "    //Mayor igual\n",
    "    var_dump($numero1 >= $numero2);\n",
    "    echo\"<br>\";\n",
    "\n",
    "    //Menor igual\n",
    "    var_dump($numero1 < $numero2);\n",
    "    echo\"<br>\";\n",
    "\n",
    "    //Igualdad\n",
    "    var_dump($numero2 == $numero3);\n",
    "    echo\"<br>\";\n",
    "\n",
    "    //Igualdad que verifica el calor y tambien el tipo de dato deben ser iguales para que sea true \n",
    "    var_dump($numero2 == $numero3);\n",
    "    echo\"<br>\";\n",
    "\n",
    "    //Si el numero de la izquierda es menor entonces nos da -1, 0 si son iguuales, si el de la izquierda es mayor entonces 1 \n",
    "    var_dump($numero1 <=> $numero2);\n",
    "\n",
    "    include 'includes/footer.php';\n",
    "?>    "
   ]
  },
  {
   "cell_type": "markdown",
   "metadata": {},
   "source": [
    "**Incrementos**\n"
   ]
  },
  {
   "cell_type": "code",
   "execution_count": null,
   "metadata": {
    "vscode": {
     "languageId": "plaintext"
    }
   },
   "outputs": [],
   "source": [
    "<?php \n",
    "    //Libreria para agregar estilos\n",
    "    include 'includes/header.php';\n",
    "    \n",
    "    $numero1 = 30;\n",
    "    //Incrementa en 1\n",
    "    echo $numero1++;\n",
    "\n",
    "    //Decrementa en 1 \n",
    "    echo $numero--;\n",
    "\n",
    "    //Ingrementos especificos \n",
    "    echo $numero1+=5;\n",
    "\n",
    "    //Decrementos especificos \n",
    "    echo $numero1-=5;    \n",
    "\n",
    "    include 'includes/footer.php';\n",
    "?>    "
   ]
  }
 ],
 "metadata": {
  "language_info": {
   "name": "python"
  }
 },
 "nbformat": 4,
 "nbformat_minor": 2
}
