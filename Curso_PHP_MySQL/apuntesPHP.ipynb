{
 "cells": [
  {
   "cell_type": "markdown",
   "metadata": {},
   "source": [
    "**Que es PHP**\n",
    "\n",
    "Significa Personal Home Page y es un un procesador de textos\n",
    "\n",
    "No es un lenguaje compilado si no que se ejecuta en scrips \n",
    "\n",
    "Realiza cosas que html no puede\n",
    "\n",
    "**VENTAJAS** \n",
    "\n",
    "Es gratis y open source \n",
    "\n",
    "Multilataforma \n",
    "\n",
    "Diseniado para Web \n",
    "\n",
    "Funciones para conectar a bases de datos ya definidas \n",
    "\n",
    "Puede ser o no orientado a objetos "
   ]
  },
  {
   "cell_type": "markdown",
   "metadata": {},
   "source": [
    "**Para ejecutar un archivo php desde VsCode**"
   ]
  },
  {
   "cell_type": "code",
   "execution_count": null,
   "metadata": {
    "vscode": {
     "languageId": "plaintext"
    }
   },
   "outputs": [],
   "source": [
    "#Desde la consola \n",
    "php -S localhost:3000"
   ]
  },
  {
   "cell_type": "markdown",
   "metadata": {},
   "source": [
    "**Inicio del Curso**"
   ]
  },
  {
   "cell_type": "markdown",
   "metadata": {},
   "source": [
    "**Formas de mostrar un mensaje en php**"
   ]
  },
  {
   "cell_type": "code",
   "execution_count": null,
   "metadata": {
    "vscode": {
     "languageId": "plaintext"
    }
   },
   "outputs": [],
   "source": [
    "<?php \n",
    "    //Libreria para agregar estilos\n",
    "    include 'includes/header.php';\n",
    "\n",
    "    //Formas de imprimir un mesnaje en php\n",
    "    echo(\"Hola Mundo\");\n",
    "\n",
    "    print \"Hola mundo2\";\n",
    "\n",
    "    print_r(\"Hola mundo\");\n",
    "\n",
    "    //Este muestra las propiedades del atributo\n",
    "    var_dump(\"hola mundo\");\n",
    "    \n",
    "?>   "
   ]
  },
  {
   "cell_type": "markdown",
   "metadata": {},
   "source": [
    "**Variables y constantes en PHP**"
   ]
  },
  {
   "cell_type": "code",
   "execution_count": null,
   "metadata": {
    "vscode": {
     "languageId": "plaintext"
    }
   },
   "outputs": [],
   "source": [
    "<?php \n",
    "    //Libreria para agregar estilos\n",
    "    include 'includes/header.php';\n",
    "\n",
    "    //Para crear una variables \n",
    "    $nombre = \"Gabriel\";\n",
    "    //Imprimir el valor de una variables \n",
    "    echo $nombre;\n",
    "    var_dump($nombre);\n",
    "\n",
    "    //Para crear una constante\n",
    "    define('constante',\"Este es el valor de la constante\");\n",
    "    //Para imprimir una constante lo hacemos sin el signo de $\n",
    "    echo constante;\n",
    "\n",
    "    //Otra forma para crar una constante \n",
    "    const constante2 = \"Hola soy una constante\";\n",
    "    echo constante2;\n",
    "\n",
    "    include 'includes/footer.php';\n",
    "?>   "
   ]
  },
  {
   "cell_type": "markdown",
   "metadata": {},
   "source": [
    "**Tipos de datos**"
   ]
  },
  {
   "cell_type": "code",
   "execution_count": null,
   "metadata": {
    "vscode": {
     "languageId": "plaintext"
    }
   },
   "outputs": [],
   "source": [
    "<?php \n",
    "    //Libreria para agregar estilos\n",
    "    include 'includes/header.php';\n",
    "    //Booleano \n",
    "    $logueado = true;\n",
    "    var_dump($logueado);\n",
    "\n",
    "    //Enteros\n",
    "    $numero = 34;\n",
    "    var_dump($numero);\n",
    "\n",
    "    //Flotantes \n",
    "    $flotante = 200.5;\n",
    "    var_dump($fotante);\n",
    "\n",
    "    //String \n",
    "    $nombre = \"Gabriel\";\n",
    "    var_dump($nombre);\n",
    "\n",
    "    //Arreglos \n",
    "    $array =[];\n",
    "    var_dump($array);\n",
    "\n",
    "\n",
    "    include 'includes/footer.php';\n",
    "?>    "
   ]
  },
  {
   "cell_type": "markdown",
   "metadata": {},
   "source": [
    "**Operadores**"
   ]
  },
  {
   "cell_type": "code",
   "execution_count": null,
   "metadata": {
    "vscode": {
     "languageId": "plaintext"
    }
   },
   "outputs": [],
   "source": [
    "<?php \n",
    "    //Libreria para agregar estilos\n",
    "    include 'includes/header.php';\n",
    "\n",
    "    $numero1=20;\n",
    "    $numero2=10;\n",
    "\n",
    "    //sumar\n",
    "    echo($numero1+$numero2);\n",
    "\n",
    "    //Salto de linea \n",
    "    echo \"<br>\";\n",
    "\n",
    "    //restar\n",
    "    echo($numero1-$numero2);\n",
    "\n",
    "    echo \"<br>\";\n",
    "\n",
    "    //Multiplicar\n",
    "    echo ($numero1*$numero2);\n",
    "\n",
    "    echo \"<br>\";\n",
    "\n",
    "    //Dividir \n",
    "    echo ($numero1/$numero2);\n",
    "\n",
    "    echo \"<br>\";\n",
    "    \n",
    "    //Multiplicar cierta cantidad de veces \n",
    "    echo 2 ** 3;\n",
    "    include 'includes/footer.php';\n",
    "?>    "
   ]
  },
  {
   "cell_type": "markdown",
   "metadata": {},
   "source": [
    "**Comparadores**"
   ]
  },
  {
   "cell_type": "code",
   "execution_count": null,
   "metadata": {
    "vscode": {
     "languageId": "plaintext"
    }
   },
   "outputs": [],
   "source": [
    "<?php \n",
    "    //Libreria para agregar estilos\n",
    "    include 'includes/header.php';\n",
    "\n",
    "    $numero1 = 20;\n",
    "    $numero2 = 30;\n",
    "    $numero3 = 30;\n",
    "    $numero4 = \"30\";\n",
    "\n",
    "    //Mayor que \n",
    "    var_dump($numero1 > $numero2);\n",
    "    echo\"<br>\";\n",
    "\n",
    "    //Menor que \n",
    "    var_dump($numero1 < $numero2);\n",
    "    echo\"<br>\";\n",
    "\n",
    "    //Mayor igual\n",
    "    var_dump($numero1 >= $numero2);\n",
    "    echo\"<br>\";\n",
    "\n",
    "    //Menor igual\n",
    "    var_dump($numero1 < $numero2);\n",
    "    echo\"<br>\";\n",
    "\n",
    "    //Igualdad\n",
    "    var_dump($numero2 == $numero3);\n",
    "    echo\"<br>\";\n",
    "\n",
    "    //Igualdad que verifica el calor y tambien el tipo de dato deben ser iguales para que sea true \n",
    "    var_dump($numero2 == $numero3);\n",
    "    echo\"<br>\";\n",
    "\n",
    "    //Si el numero de la izquierda es menor entonces nos da -1, 0 si son iguuales, si el de la izquierda es mayor entonces 1 \n",
    "    var_dump($numero1 <=> $numero2);\n",
    "\n",
    "    include 'includes/footer.php';\n",
    "?>    "
   ]
  },
  {
   "cell_type": "markdown",
   "metadata": {},
   "source": [
    "**Incrementos**\n"
   ]
  },
  {
   "cell_type": "code",
   "execution_count": null,
   "metadata": {
    "vscode": {
     "languageId": "plaintext"
    }
   },
   "outputs": [],
   "source": [
    "<?php \n",
    "    //Libreria para agregar estilos\n",
    "    include 'includes/header.php';\n",
    "    \n",
    "    $numero1 = 30;\n",
    "    //Incrementa en 1\n",
    "    echo $numero1++;\n",
    "\n",
    "    //Decrementa en 1 \n",
    "    echo $numero--;\n",
    "\n",
    "    //Ingrementos especificos \n",
    "    echo $numero1+=5;\n",
    "\n",
    "    //Decrementos especificos \n",
    "    echo $numero1-=5;    \n",
    "\n",
    "    include 'includes/footer.php';\n",
    "?>    "
   ]
  },
  {
   "cell_type": "markdown",
   "metadata": {},
   "source": [
    "**Funciones string**"
   ]
  },
  {
   "cell_type": "code",
   "execution_count": null,
   "metadata": {
    "vscode": {
     "languageId": "plaintext"
    }
   },
   "outputs": [],
   "source": [
    "<?php \n",
    "    //Libreria para agregar estilos\n",
    "    include 'includes/header.php';\n",
    "    \n",
    "    $nombreCliente =\"Gabriel Ordaz\";\n",
    "\n",
    "    //Escribe el numero de caracteres\n",
    "    echo strlen($nombreCliente);\n",
    "    var_dump($nombreCliente);\n",
    "\n",
    "    //Eliminar espacios en blanco\n",
    "    $texto = trim($nombreCliente);\n",
    "    echo $texto;\n",
    "\n",
    "    //Comvertir los datos a mayusculas \n",
    "    echo strtoupper($nombreCliente);\n",
    "\n",
    "    //Convertir a minusculas \n",
    "    $mail = \"correo@correo.com\";\n",
    "    $mail2 = \"Correo@correo.com\";\n",
    "\n",
    "    //Remplasar una parte de la cadena \n",
    "    echo str_replace('Gabriel','G',$nombreCliente);\n",
    "\n",
    "    //Revisar si un string exise o no,devuelve la posicion en un string\n",
    "    echo strpos($nombreCliente,'Gabriel');   \n",
    "    \n",
    "    //Unir diferentes variables \n",
    "    $tipoCliente = \"Premium\";\n",
    "    echo \"El cliente \". $nombreCliente . \" es \" . $tipoCliente;\n",
    "    //Otra forma\n",
    "    echo \"El cliete {$nombreCliente} es {$tipoCliente}\";\n",
    "\n",
    "    include 'includes/footer.php';\n",
    "?>    "
   ]
  },
  {
   "cell_type": "markdown",
   "metadata": {},
   "source": [
    "**Funciones y arreglos**"
   ]
  },
  {
   "cell_type": "code",
   "execution_count": null,
   "metadata": {
    "vscode": {
     "languageId": "plaintext"
    }
   },
   "outputs": [],
   "source": [
    "<?php \n",
    "    //Libreria para agregar estilos\n",
    "    include 'includes/header.php';\n",
    "    \n",
    "    //Arreglo\n",
    "    $carrito = ['Tablet','Televicion','Computadora'];\n",
    "    //Revisar los arregos de mejor manera\n",
    "    echo\"<pre>\";\n",
    "    var_dump($carrito);\n",
    "    echo \"</pre>\";\n",
    "\n",
    "    //Otra forma de crear un Arreglo\n",
    "    $clientes = array('Cliente1','Cliente2','Cliente3');\n",
    "    //Revisar los arregos de mejor manera\n",
    "    echo\"<pre>\";\n",
    "    var_dump($clientes);\n",
    "    echo \"</pre>\";\n",
    "\n",
    "    //Acceder a un elemento en especifico \n",
    "    echo $carrito[1];\n",
    "\n",
    "    //Agregarun elemeno al arreglo\n",
    "    $carroto[3] = \"Nuevo elelmento\";\n",
    "\n",
    "    //Agregar al final del arreglo\n",
    "    array_push($carrito,'Audifonos');\n",
    "\n",
    "    //Agregar al inicio \n",
    "    array_unshift($carrito,'Smartwhac');\n",
    "    \n",
    "    include 'includes/footer.php';\n",
    "?>  "
   ]
  },
  {
   "cell_type": "markdown",
   "metadata": {},
   "source": [
    "**Arreglos asociativos**\n"
   ]
  },
  {
   "cell_type": "code",
   "execution_count": null,
   "metadata": {
    "vscode": {
     "languageId": "plaintext"
    }
   },
   "outputs": [],
   "source": [
    "<?php \n",
    "    //Libreria para agregar estilos\n",
    "    include 'includes/header.php';\n",
    "    \n",
    "    //Los objetos asociativos sonel equivalente a un objeto \n",
    "    $cliente = [\n",
    "        'nombre'      => 'juan',\n",
    "        'saldo'       => 200,\n",
    "        'informacion' => [\n",
    "            'tipo' => 'premium',\n",
    "            'disponible' => 100\n",
    "        ]\n",
    "    ];\n",
    "\n",
    "    //Para verlo con us scaracteristicas\n",
    "    echo \"<pre>\";\n",
    "    var_dump($cliente);\n",
    "    echo \"<pre>\";\n",
    "\n",
    "    //Para ver un elemento en especifico\n",
    "    echo $cliente['nombre'];\n",
    "    echo $cliente['saldo'];\n",
    "\n",
    "    //Para acceder a la informacion del array\n",
    "    echo $cliente['informacion']['tipo'];\n",
    "    echo \"<br>\";\n",
    "    echo $cliente['informacion']['disponible'];\n",
    "    \n",
    "    //Para agregar un elemento al arreglo \n",
    "    $cliente['codigo'] = 1920008;\n",
    "    include 'includes/footer.php';\n",
    "?>  "
   ]
  },
  {
   "cell_type": "markdown",
   "metadata": {},
   "source": [
    "**Funciones Array**"
   ]
  },
  {
   "cell_type": "code",
   "execution_count": null,
   "metadata": {
    "vscode": {
     "languageId": "plaintext"
    }
   },
   "outputs": [],
   "source": [
    "_<?php \n",
    "    //Libreria para agregar estilos\n",
    "    include 'includes/header.php';\n",
    "    \n",
    "    $carrito = ['Tablet','Computadora','Television'];\n",
    "    $numeros = array(1,9,5,7,2,6,0);\n",
    "    $cliente =array(\n",
    "        'saldo'  => 200,\n",
    "        'tipo'   => 'Premium',\n",
    "        'nombre' => 'Juan'\n",
    "    );\n",
    "\n",
    "    //Buscar elementos en un arrglo\n",
    "    var_dump(in_array('Tablet',$carrito));\n",
    "\n",
    "    //Ordenar de menor a mayor elementos de un arreglo \n",
    "    sort($numeros);\n",
    "\n",
    "    echo \"<pre>\";\n",
    "    var_dump($numeros);\n",
    "    echo \"<pre>\";\n",
    "\n",
    "    //Ordenar de mayor a menor elementos de un arreglo \n",
    "    //Ordenar de menor a mayor elementos de un arreglo \n",
    "    rsort($numeros);\n",
    "\n",
    "    echo \"<pre>\";\n",
    "    var_dump($numeros);\n",
    "    echo \"<pre>\";  \n",
    "\n",
    "    echo \"<pre>\";\n",
    "    var_dump($cliente);\n",
    "    echo \"<pre>\";  \n",
    "\n",
    "    //Ordenar un arreglo asociativo por valores \n",
    "    asort($cliente);\n",
    "    echo \"<pre>\";\n",
    "    var_dump($cliente);\n",
    "    echo \"<pre>\"; \n",
    "    \n",
    "    //Ordenar un arreglo asociativo por llaves \n",
    "    ksort($cliente);\n",
    "    echo \"<pre>\";\n",
    "    var_dump($cliente);\n",
    "    echo \"<pre>\"; \n",
    "    \n",
    "    //Ordenar un arreglo asociativo por llaves en forma iversa \n",
    "    krsort($cliente);\n",
    "    echo \"<pre>\";\n",
    "    var_dump($cliente);\n",
    "    echo \"<pre>\"; \n",
    "\n",
    "    include 'includes/footer.php';\n",
    "?>  "
   ]
  },
  {
   "cell_type": "markdown",
   "metadata": {},
   "source": [
    "**Condicionales if**"
   ]
  },
  {
   "cell_type": "code",
   "execution_count": null,
   "metadata": {
    "vscode": {
     "languageId": "plaintext"
    }
   },
   "outputs": [],
   "source": [
    "<?php \n",
    "    //Libreria para agregar estilos\n",
    "    include 'includes/header.php';\n",
    "    \n",
    "    $autenticado = false;\n",
    "    $admin =false;\n",
    "    \n",
    "    if($autenticado || $admin  ){\n",
    "        echo \"Usuario autenticado correctamente\";\n",
    "    }else{\n",
    "        echo \"Usuario no autenticado. Inicia secion\";\n",
    "    }\n",
    "\n",
    "    echo \"<br>\";\n",
    "\n",
    "    //if anidados \n",
    "    $cliente =[\n",
    "        'nombre' => 'Juan',\n",
    "        'saldo'  => 200,\n",
    "        'informacion' => [\n",
    "            'tipo' => 'Premium'\n",
    "        ]\n",
    "    ];\n",
    "\n",
    "    //Negacion con el signo !\n",
    "    if(!empty($cliente)){\n",
    "        echo\"El arreglo de cliente no esta vacio\";\n",
    "        echo \"<br>\";\n",
    "        \n",
    "        if($cliente['saldo'] > 0 ){\n",
    "            echo 'El saldo del cliente esta disponible';\n",
    "        }else{\n",
    "            echo \"No hay saldo\";\n",
    "        } \n",
    "\n",
    "    }else{\n",
    "        echo \"El arreglo de cliente esta vacio\";\n",
    "    }\n",
    "\n",
    "    //Condicional Switch\n",
    "    $tecnologia = 'PHP';\n",
    "\n",
    "    SWITCH($tecnologia){\n",
    "        case 'PHP':\n",
    "            echo \"PHP, un exelente lenguaje\";\n",
    "        break;\n",
    "        \n",
    "        case 'JavaScript':\n",
    "            echo \"Genial lenguaje para web\";\n",
    "\n",
    "        break;\n",
    "            \n",
    "        default:\n",
    "            echo \"Algun lenguaje que no se cual es\";\n",
    "        break;    \n",
    "    }\n",
    "\n",
    "    include 'includes/footer.php';\n",
    "?>  "
   ]
  },
  {
   "cell_type": "markdown",
   "metadata": {},
   "source": [
    "**Bucles**"
   ]
  },
  {
   "cell_type": "code",
   "execution_count": null,
   "metadata": {
    "vscode": {
     "languageId": "plaintext"
    }
   },
   "outputs": [],
   "source": [
    "<?php \n",
    "    //Libreria para agregar estilos\n",
    "    include 'includes/header.php';\n",
    "    \n",
    "    $i =0;\n",
    "\n",
    "    //Bucle While\n",
    "    while($i < 10){\n",
    "        echo $i . \"<br>\";\n",
    "        $i++;\n",
    "    }\n",
    "\n",
    "    $i =0;\n",
    "    //Do while \n",
    "    do{\n",
    "        echo $i . \"<br>\";\n",
    "        $i++;\n",
    "\n",
    "    }while($i<10);\n",
    "\n",
    "    //Bucle for\n",
    "    for($i = 0; $i<10; $i++){\n",
    "        echo $i . \"<br>\";\n",
    "    }\n",
    "\n",
    "    //Ejercicio \n",
    "    /*\n",
    "    del 0 al 100\n",
    "    si es multiplo de 3 escribe fizz\n",
    "    si es multiplo de 5 escribir buzz\n",
    "    si es multiplo de 3 y 5 ecribir fizz buzz\n",
    "     */\n",
    "    for($i = 0; $i<=100; $i++){\n",
    "        if($i % 3 === 0 && $i % 5 ==0){\n",
    "            echo $i . \"= fizz buzz\" . \"<br>\";\n",
    "            \n",
    "        }else if($i % 3 === 0){\n",
    "            echo $i . \"= fizz\" . \"<br>\";\n",
    "            \n",
    "        }else if($i % 5 === 0){\n",
    "            echo $i . \"= buzz\" . \"<br>\";\n",
    "            \n",
    "        }else{\n",
    "            echo $i .  \"<br>\";\n",
    "        }\n",
    "    }\n",
    "\n",
    "    //Bucle for de despliegue\n",
    "    $clientes = array('Pedro','Juan','Karen');\n",
    "\n",
    "    foreach($clientes as $cliente){\n",
    "        echo $cliente . \"<br>\";\n",
    "    }\n",
    "\n",
    "    $cliente =[\n",
    "        'nombre' => 'juan',\n",
    "        'saldo'  => 200,\n",
    "        'tipo'   => 'Premium'\n",
    "    ];\n",
    "\n",
    "    foreach($cliente as $key => $valor){\n",
    "        echo $key . \" - \" . $valor . \"<br>\";\n",
    "    }\n",
    "\n",
    "    include 'includes/footer.php';\n",
    "?>  "
   ]
  },
  {
   "cell_type": "markdown",
   "metadata": {},
   "source": [
    "**ForEach avanzado**"
   ]
  },
  {
   "cell_type": "code",
   "execution_count": null,
   "metadata": {
    "vscode": {
     "languageId": "plaintext"
    }
   },
   "outputs": [],
   "source": [
    "<?php \n",
    "    //Libreria para agregar estilos\n",
    "    include 'includes/header.php';\n",
    "    \n",
    "    $productos =[\n",
    "        [    \n",
    "            'nombre'     => 'Tablet',\n",
    "            'precio'     => 200,\n",
    "            'disponible' => true\n",
    "        ],\n",
    "        [\n",
    "            'nombre'     => 'Televicion',\n",
    "            'precio'     => 200,\n",
    "            'disponible' => true\n",
    "        ],\n",
    "        [\n",
    "            'nombre'     => 'Monitor curvo',\n",
    "            'precio'     => 200,\n",
    "            'disponible' => false\n",
    "        ]\n",
    "    ];    \n",
    "\n",
    "    foreach($productos as $producto){ ?>\n",
    "        <li>\n",
    "            <p>Producto: <?php echo $producto['nombre']; ?> </p>\n",
    "            <p>Precio: <?php echo \"$\" . $producto['precio']; ?> </p>\n",
    "            <p><?php echo ($producto['disponible']);?></p>\n",
    "\n",
    "            <?php\n",
    "                if($producto['disponible']){\n",
    "                    echo \"<p>Disponible</p>\";\n",
    "                }else{\n",
    "                    echo \"<p>No disponible</p>\";\n",
    "                }\n",
    "            ?>    \n",
    "        </li>\n",
    "       <?php \n",
    "    }\n",
    "\n",
    "    include 'includes/footer.php';\n",
    "?>  "
   ]
  },
  {
   "cell_type": "markdown",
   "metadata": {},
   "source": [
    "**Funciones**"
   ]
  },
  {
   "cell_type": "code",
   "execution_count": null,
   "metadata": {
    "vscode": {
     "languageId": "plaintext"
    }
   },
   "outputs": [],
   "source": [
    "<?php \n",
    "    //Libreria para agregar estilos\n",
    "    include 'includes/header.php';\n",
    "    \n",
    "    //Creamos la funcion, si no se le manda un numero agrega el valor por defaull que es 0\n",
    "    function sumar($numero1 = 0,$numero2 = 0){\n",
    "        echo $numero1 + $numero2;\n",
    "    }\n",
    "\n",
    "    //llamamos a la funncion \n",
    "    sumar(10,20);\n",
    "    echo \"<br>\";\n",
    "    function usuarioAutenticado($autenticado){\n",
    "        if($autenticado === true){\n",
    "            return \"El usuario esta autenticado\";\n",
    "        }else{\n",
    "            return \"El usuario no esta autenticado\";\n",
    "        }        \n",
    "    }\n",
    "\n",
    "    $usuario = usuarioAutenticado(true);\n",
    "    echo $usuario;\n",
    "\n",
    "    include 'includes/footer.php';\n",
    "?>  "
   ]
  },
  {
   "cell_type": "markdown",
   "metadata": {},
   "source": [
    "**JSON en PHP**"
   ]
  },
  {
   "cell_type": "code",
   "execution_count": null,
   "metadata": {
    "vscode": {
     "languageId": "plaintext"
    }
   },
   "outputs": [],
   "source": [
    "<?php\n",
    "    $productos =[\n",
    "            [    \n",
    "                'nombre'     => 'Tablet',\n",
    "                'precio'     => 200,\n",
    "                'disponible' => true\n",
    "            ],\n",
    "            [\n",
    "                'nombre'     => 'Televicion',\n",
    "                'precio'     => 200,\n",
    "                'disponible' => true\n",
    "            ],\n",
    "            [\n",
    "                'nombre'     => 'Monitor curvo',\n",
    "                'precio'     => 200,\n",
    "                'disponible' => false\n",
    "            ]\n",
    "        ];   \n",
    "\n",
    "    echo \"<pre>\";\n",
    "    var_dump($productos);\n",
    "\n",
    "    //Convertimos la informacion en json, para que vea los caracteres especiales en espaniol\n",
    "    $json = json_encode($productos, JSON_UNESCAPED_UNICODE);\n",
    "    var_dump($json);\n",
    "    echo \"<pre>\";\n",
    "\n",
    "    //convertimos un strin(json) a un arreglo \n",
    "    $json_array = json_decode($json);\n",
    "    var_dump($json_array);\n",
    "    echo \"<pre>\"; \n",
    "?>"
   ]
  },
  {
   "cell_type": "markdown",
   "metadata": {},
   "source": [
    "**Conectar MySQL con PHP**"
   ]
  },
  {
   "cell_type": "markdown",
   "metadata": {},
   "source": [
    "Creamos una coneccion con nuestra base de datos \n",
    "\n",
    "**database.php**"
   ]
  },
  {
   "cell_type": "code",
   "execution_count": null,
   "metadata": {
    "vscode": {
     "languageId": "plaintext"
    }
   },
   "outputs": [],
   "source": [
    "<?php \n",
    "    $db = mysqli_connect('localhost','root','tachyeldragon123','appsalon');\n",
    "\n",
    "    if(!$db){\n",
    "        echo \"Conexion fallida\" . \"<br>\";\n",
    "    }\n",
    "?>"
   ]
  },
  {
   "cell_type": "markdown",
   "metadata": {},
   "source": [
    "creamos una funcion para consultar la bd \n",
    "\n",
    "**funciones.php**"
   ]
  },
  {
   "cell_type": "code",
   "execution_count": null,
   "metadata": {
    "vscode": {
     "languageId": "plaintext"
    }
   },
   "outputs": [],
   "source": [
    "<?php\n",
    "    //Cramos la funcion  \n",
    "    function obtener_servicios(){\n",
    "        try{\n",
    "            //Importar las credenciales (database.php)\n",
    "            require 'database.php';\n",
    "\n",
    "            //consulta sql\n",
    "            $sql = \"SELECT * FROM servicios;\";\n",
    "\n",
    "            //realizar la consulta\n",
    "            $consulta = mysqli_query($db, $sql);          \n",
    "\n",
    "            //acceder a los resultados\n",
    "            /*\n",
    "            echo \"<pre>\";\n",
    "            var_dump (mysqli_fetch_assoc($consulta));\n",
    "            echo \"<pre>\";\n",
    "            */\n",
    "        \n",
    "            //cerrar la conexion \n",
    "            mysqli_close($db);\n",
    "\n",
    "            //Retornar consulta \n",
    "            return $consulta;            \n",
    "            \n",
    "        }catch(\\Throwable $th){//Throwable es una funcion que nos sirve para indicar el error \n",
    "            var_dump($th);\n",
    "        }\n",
    "    }\n",
    "\n",
    "?>"
   ]
  },
  {
   "cell_type": "markdown",
   "metadata": {},
   "source": [
    "Ahora desplegamos en una pagina html\n",
    "\n",
    "**index.html**"
   ]
  },
  {
   "cell_type": "code",
   "execution_count": null,
   "metadata": {
    "vscode": {
     "languageId": "plaintext"
    }
   },
   "outputs": [],
   "source": [
    "<?php\n",
    "    //importamos la funcion para consultar la bd\n",
    "    require  'includes/funciones.php';\n",
    "    //le agregamos el valor de retorno a una variable\n",
    "    $consulta = obtener_servicios();\n",
    "?>\n",
    "<!DOCTYPE html>\n",
    "<html lang=\"es\">\n",
    "<head>\n",
    "    <meta charset=\"UTF-8\">\n",
    "    <meta name=\"viewport\" content=\"width=device-width, initial-scale=1.0\">\n",
    "    <title>App Salón de Belleza</title>\n",
    "    <link href=\"https://fonts.googleapis.com/css2?family=Poppins:wght@300;700;900&display=swap\" rel=\"stylesheet\"> \n",
    "    <link rel=\"stylesheet\" href=\"build/css/app.css\">\n",
    "</head>\n",
    "<body>\n",
    "    <div class=\"contenedor-estetica\">\n",
    "        <div class=\"imagen\"></div>\n",
    "        <div class=\"app\">\n",
    "            <header class=\"header\">\n",
    "                <h1>App Peluqueria</h1>\n",
    "            </header>\n",
    "\n",
    "            <div class=\"seccion\">\n",
    "                <h2>Servicios</h2>\n",
    "                <p class=\"text-center\">Elige tus Servicios a Continuación</p>\n",
    "                <div id=\"servicios\" class=\"listado-servicios\">\n",
    "                    <?php\n",
    "                        /*asignamos a un bucle el arreglo para que despliegue los valores*/\n",
    "                        while($servicio = mysqli_fetch_assoc($consulta)){ ?>\n",
    "                            <div class=\"servicio\">\n",
    "                                //desplegamos el nombre\n",
    "                                <p class=\"nombre-servicio\"><?php echo $servicio['nombre'] ?></p>\n",
    "                                //desplegamos el precio\n",
    "                                <p class=\"precio-servicio\"><?php echo $servicio['precio'] ?></p>\n",
    "                            </div>\n",
    "\n",
    "                    <?php } ?>\n",
    "                    \n",
    "                </div>\n",
    "            </div>\n",
    "        </div>\n",
    "    </div>\n",
    "</body>\n",
    "</html>"
   ]
  },
  {
   "cell_type": "markdown",
   "metadata": {},
   "source": [
    "**POO en PHP**"
   ]
  },
  {
   "cell_type": "markdown",
   "metadata": {},
   "source": [
    "**Metodos constructores y metodos**"
   ]
  },
  {
   "cell_type": "code",
   "execution_count": null,
   "metadata": {
    "vscode": {
     "languageId": "plaintext"
    }
   },
   "outputs": [],
   "source": [
    "<?php \n",
    "//para el tipado fuerte\n",
    "    declare(strict_types=1);\n",
    "    include 'includes/header.php';\n",
    "    //Definir una clase \n",
    "    class Producto{\n",
    "        //Atributos \n",
    "        public $nombre;\n",
    "        public $precio;\n",
    "        public $disponible;\n",
    "\n",
    "        //Constructores \n",
    "        public function __construct(string $nombre,int $precio,bool $disponible){\n",
    "            $this->nombre = $nombre;\n",
    "            $this->precio = $precio;\n",
    "            $this->disponible = $disponible;\n",
    "        }\n",
    "\n",
    "        //Metodos\n",
    "        public function mostrarProducto(){\n",
    "            echo \"El producto es \" . $this->nombre . \" y su precio es de \" . $this->precio; \n",
    "        } \n",
    "\n",
    "\n",
    "    }\n",
    "\n",
    "    //Inatanciamos la clase \n",
    "    $producto = new Producto('Tablet',300,true);\n",
    "    echo \"<pre>\";\n",
    "    var_dump($producto);\n",
    "    echo \"</pre>\";\n",
    "    //Usando el metodo mostararproducto \n",
    "    $producto->mostrarProducto();\n",
    "\n",
    "    //Inatanciamos la clase \n",
    "    $producto2 = new Producto('Monitor curvo',300,true);\n",
    "    echo \"<pre>\";\n",
    "    var_dump($producto2);\n",
    "    echo \"</pre>\";\n",
    "    //Usando el metodo mostararproducto \n",
    "    $producto2->mostrarProducto();    \n",
    "\n",
    "\n",
    "    include 'includes/footer.php';\n",
    "?>"
   ]
  },
  {
   "cell_type": "markdown",
   "metadata": {},
   "source": [
    "**Encapsulamiento***"
   ]
  },
  {
   "cell_type": "code",
   "execution_count": null,
   "metadata": {
    "vscode": {
     "languageId": "plaintext"
    }
   },
   "outputs": [],
   "source": [
    "<?php \n",
    "//para el tipado fuerte\n",
    "    declare(strict_types=1);\n",
    "    include 'includes/header.php';\n",
    "\n",
    "    //Encapsulamiento \n",
    "    //Public Se puede acceder y modificar en cualquier lugar (clase u objeto)\n",
    "    //protected se puede acceder unicamente en la calase \n",
    "    //Private solo miembbros de la misma clase pueden acceder a el \n",
    "    class Producto{\n",
    "        //Atributos \n",
    "        private $nombre;\n",
    "        private $precio;\n",
    "        private $disponible;\n",
    "\n",
    "        //Constructores \n",
    "        public function __construct(string $nombre,int $precio,bool $disponible){\n",
    "            $this->nombre = $nombre;\n",
    "            $this->precio = $precio;\n",
    "            $this->disponible = $disponible;\n",
    "        }\n",
    "\n",
    "        public function setNombre(string $nombre){\n",
    "            $this->nombre = $nombre;\n",
    "        }\n",
    "        public function getNombre(){\n",
    "            return $this->nombre;\n",
    "        }\n",
    "\n",
    "        //Metodos\n",
    "        public function mostrarProducto(){\n",
    "            echo \"El producto es \" . $this->nombre . \" y su precio es de \" . $this->precio; \n",
    "        } \n",
    "\n",
    "\n",
    "    }\n",
    "\n",
    "    //Inatanciamos la clase \n",
    "    $producto = new Producto('Tablet',300,true);\n",
    "    //Mostrar resultado con los metodos getter \n",
    "    echo $producto->getNombre();\n",
    "    echo \"<br>\";\n",
    "    //modificar por medio de los metodos setter\n",
    "    $producto->setNombre('Celuelar');\n",
    "    echo $producto->getNombre();\n",
    "\n",
    "    include 'includes/footer.php';\n",
    "?>"
   ]
  },
  {
   "cell_type": "markdown",
   "metadata": {},
   "source": [
    "**Metodos y avriables esataticos**"
   ]
  },
  {
   "cell_type": "code",
   "execution_count": null,
   "metadata": {
    "vscode": {
     "languageId": "plaintext"
    }
   },
   "outputs": [],
   "source": [
    "<?php \n",
    "//para el tipado fuerte\n",
    "    declare(strict_types=1);\n",
    "    include 'includes/header.php';\n",
    "\n",
    "    //Metodos estaticos \n",
    "    class Producto{\n",
    "        //Atributos \n",
    "        private $nombre;\n",
    "        private $precio;\n",
    "        private $disponible;\n",
    "\n",
    "        //Atributo estatico \n",
    "        public static $imagen = \"Imagen.jpg\";\n",
    "\n",
    "        //Constructores \n",
    "        public function __construct(string $nombre,int $precio,bool $disponible){\n",
    "            $this->nombre = $nombre;\n",
    "            $this->precio = $precio;\n",
    "            $this->disponible = $disponible;\n",
    "        }\n",
    "\n",
    "        public function setNombre(string $nombre){\n",
    "            $this->nombre = $nombre;\n",
    "        }\n",
    "        public function getNombre(){\n",
    "            return $this->nombre;\n",
    "        }\n",
    "\n",
    "        //Metodos\n",
    "        public function mostrarProducto(){\n",
    "            echo \"El producto es \" . $this->nombre . \" y su precio es de \" . $this->precio; \n",
    "        } \n",
    "\n",
    "        //Metodo estatico\n",
    "        public static function obtenerProducto(){\n",
    "            //Llamamos a un atributto estatico\n",
    "            return self::$imagen;\n",
    "        }\n",
    "\n",
    "    }\n",
    "\n",
    "    //Inatanciamos la clase \n",
    "    $producto = new Producto('Tablet',300,true);\n",
    "    //Mostrar resultado con los metodos getter \n",
    "    echo $producto->getNombre();\n",
    "    echo \"<br>\";\n",
    "    //modificar por medio de los metodos setter\n",
    "    $producto->setNombre('Celuelar');\n",
    "    echo $producto->getNombre();\n",
    "    echo '<br>';\n",
    "\n",
    "    //Llamando a un metodo estatico \n",
    "    echo Producto::obtenerProducto();\n",
    "\n",
    "    include 'includes/footer.php';\n",
    "?>"
   ]
  },
  {
   "cell_type": "markdown",
   "metadata": {},
   "source": [
    "**Herencia**"
   ]
  },
  {
   "cell_type": "code",
   "execution_count": null,
   "metadata": {
    "vscode": {
     "languageId": "plaintext"
    }
   },
   "outputs": [],
   "source": [
    "<?php \n",
    "// para el tipado fuerte\n",
    "declare(strict_types=1);\n",
    "include 'includes/header.php';\n",
    "\n",
    "\n",
    "// Herencia \n",
    "class Transporte {\n",
    "    // Atributos \n",
    "    protected int $ruedas;\n",
    "    protected int $capacidad;\n",
    "\n",
    "    public function __construct(int $ruedas, int $capacidad) {\n",
    "        $this->ruedas = $ruedas;\n",
    "        $this->capacidad = $capacidad;\n",
    "    }\n",
    "\n",
    "    public function getInfo() : string {\n",
    "        return \"El transporte tiene \" . $this->ruedas .  \" ruedas y una capacidad de \" . $this->capacidad .  \" personas\";\n",
    "    }\n",
    "\n",
    "    public function getRuedas(){\n",
    "        return $this->ruedas;\n",
    "    }\n",
    "}\n",
    "\n",
    "\n",
    "// Creamos una segunda clase \n",
    "class Bicicleta extends Transporte {\n",
    "    // Puedes agregar métodos específicos de la bicicleta aquí\n",
    "}\n",
    "\n",
    "class Automovil extends Transporte {\n",
    "    // Puedes agregar métodos específicos del automóvil aquí\n",
    "    // Atributos \n",
    "    protected int $ruedas;\n",
    "    protected int $capacidad;\n",
    "    protected string $transmicion;\n",
    "\n",
    "    public function __construct(int $ruedas, int $capacidad,string $transmicion) {\n",
    "        $this->ruedas = $ruedas;\n",
    "        $this->capacidad = $capacidad;\n",
    "        $this->transmicion = $transmicion;\n",
    "    }\n",
    "\n",
    "    public function getTransmision(): string{\n",
    "        return $this->transmicion;\n",
    "    }\n",
    "\n",
    "    //Reescribimos la funcion getInfo\n",
    "    public function getInfo() : string {\n",
    "        return \"El transporte tiene \" . $this->ruedas .  \" ruedas y una capacidad de \" . $this->capacidad .  \" personas y no gasta gasolina\";\n",
    "    }    \n",
    "}\n",
    "\n",
    "$bicicleta = new Bicicleta(2, 1);\n",
    "echo $bicicleta->getInfo();\n",
    "echo $bicicleta->getRuedas();\n",
    "\n",
    "echo \"<hr>\";\n",
    "\n",
    "$auto = new Automovil(4, 4,'Manual');\n",
    "echo $auto->getInfo();\n",
    "echo \" Tipo de transmicion \" .  $auto->getTransmision();\n",
    "\n",
    "include 'includes/footer.php';\n",
    "?>  \n"
   ]
  },
  {
   "cell_type": "markdown",
   "metadata": {},
   "source": [
    "**Clases Abstractas**"
   ]
  },
  {
   "cell_type": "markdown",
   "metadata": {},
   "source": [
    "<?php \n",
    "// para el tipado fuerte\n",
    "declare(strict_types=1);\n",
    "include 'includes/header.php';\n",
    "\n",
    "\n",
    "// Clases abstractas: No se pueden instanciar solo se pueden heredar\n",
    "abstract class Transporte {\n",
    "    // Atributos \n",
    "    protected int $ruedas;\n",
    "    protected int $capacidad;\n",
    "\n",
    "    public function __construct(int $ruedas, int $capacidad) {\n",
    "        $this->ruedas = $ruedas;\n",
    "        $this->capacidad = $capacidad;\n",
    "    }\n",
    "\n",
    "    public function getInfo() : string {\n",
    "        return \"El transporte tiene \" . $this->ruedas .  \" ruedas y una capacidad de \" . $this->capacidad .  \" personas\";\n",
    "    }\n",
    "\n",
    "    public function getRuedas(){\n",
    "        return $this->ruedas;\n",
    "    }\n",
    "}"
   ]
  },
  {
   "cell_type": "markdown",
   "metadata": {},
   "source": [
    "**Interfaces**"
   ]
  },
  {
   "cell_type": "code",
   "execution_count": null,
   "metadata": {
    "vscode": {
     "languageId": "plaintext"
    }
   },
   "outputs": [],
   "source": [
    "<?php include 'includes/header.php';\n",
    "//Interfaces, la interfaz implementa los metodos de la clase Transporte \n",
    "interface TransporteInterfaz {\n",
    "    public function getInfo():string;\n",
    "    public function getRuedas():int;\n",
    "\n",
    "}\n",
    "\n",
    "//Agregamos la clase TransporteInterfaz a la calse Transporte\n",
    "class Transporte implements TransporteInterfaz{\n",
    "    // Atributos \n",
    "    protected int $ruedas;\n",
    "    protected int $capacidad;\n",
    "\n",
    "    public function __construct(int $ruedas, int $capacidad) {\n",
    "        $this->ruedas = $ruedas;\n",
    "        $this->capacidad = $capacidad;\n",
    "    }\n",
    "\n",
    "    public function getInfo() : string {\n",
    "        return \"El transporte tiene \" . $this->ruedas .  \" ruedas y una capacidad de \" . $this->capacidad .  \" personas\";\n",
    "    }\n",
    "\n",
    "    public function getRuedas(): int{\n",
    "        return $this->ruedas;\n",
    "    }\n",
    "}\n",
    "include 'includes/footer.php';"
   ]
  },
  {
   "cell_type": "markdown",
   "metadata": {},
   "source": [
    "**Plimorfizmo**"
   ]
  },
  {
   "cell_type": "markdown",
   "metadata": {},
   "source": [
    "<?php include 'includes/header.php';\n",
    "//Interfaces\n",
    "interface TransporteInterfaz {\n",
    "    public function getInfo():string;\n",
    "    public function getRuedas():int;\n",
    "\n",
    "}\n",
    "\n",
    "//Agregamos la clase TransporteInterfaz a la calse Transporte\n",
    "class Transporte implements TransporteInterfaz{\n",
    "    // Atributos \n",
    "    protected int $ruedas;\n",
    "    protected int $capacidad;\n",
    "\n",
    "    public function __construct(int $ruedas, int $capacidad) {\n",
    "        $this->ruedas = $ruedas;\n",
    "        $this->capacidad = $capacidad;\n",
    "    }\n",
    "\n",
    "    public function getInfo() : string {\n",
    "        return \"El transporte tiene \" . $this->ruedas .  \" ruedas y una capacidad de \" . $this->capacidad .  \" personas\";\n",
    "    }\n",
    "\n",
    "    public function getRuedas(): int{\n",
    "        return $this->ruedas;\n",
    "    }\n",
    "}\n",
    "\n",
    "//Polimorfismo \n",
    "class Automovil extends Transporte implements TransporteInterfaz{\n",
    "    // Atributos \n",
    "    protected int $ruedas;\n",
    "    protected int $capacidad;\n",
    "    protected string $color;\n",
    "\n",
    "    public function __construct(int $ruedas, int $capacidad, string $color) {\n",
    "        $this->ruedas = $ruedas;\n",
    "        $this->capacidad = $capacidad;\n",
    "        $this->color = $color;\n",
    "    }\n",
    "\n",
    "    public function getInfo(): string {\n",
    "        return \"El transporte auto tiene\" . $this->ruedas .  \" ruedas y una capacidad de \" . $this->capacidad .  \" personas y tiene el color\" . $this->color;\n",
    "    }\n",
    "\n",
    "    public function getColor():string{\n",
    "        return $this->color;\n",
    "    }\n",
    "\n",
    "}\n",
    "\n",
    "echo \"<pre>\";\n",
    "var_dump($transporte = new Transporte(8,20));\n",
    "var_dump($auto = new Automovil(4,4,'Rojo'));\n",
    "echo \"<pre>\";\n",
    "\n",
    "echo \"<pre>\";\n",
    "echo $transporte->getInfo();\n",
    "echo \"<pre>\";\n",
    "echo $auto->getInfo();\n",
    "echo \"<pre>\";\n",
    "echo $auto->getColor();\n",
    "include 'includes/footer.php';"
   ]
  },
  {
   "cell_type": "markdown",
   "metadata": {},
   "source": [
    "**Llamado de clases**\n",
    "\n",
    "Imaginemos que tenemos una carpeta que se llama \"clases\" y dentro de esta carpeta tenemos las clases llamadas \"Clientes.php\" y \"Detalles.php\", ahora en la ruta raiz existe un archivo llamado main en la que queremos llamar dichas clases"
   ]
  },
  {
   "cell_type": "markdown",
   "metadata": {},
   "source": [
    "clase Cliente.php"
   ]
  },
  {
   "cell_type": "code",
   "execution_count": null,
   "metadata": {
    "vscode": {
     "languageId": "plaintext"
    }
   },
   "outputs": [],
   "source": [
    "<?php\n",
    "    class Clientes{\n",
    "        public function __construct(){\n",
    "            echo \"Desde la clase de Clientes\";\n",
    "        }\n",
    "    }\n",
    "?>"
   ]
  },
  {
   "cell_type": "markdown",
   "metadata": {},
   "source": [
    "clase Detalles.php"
   ]
  },
  {
   "cell_type": "code",
   "execution_count": null,
   "metadata": {
    "vscode": {
     "languageId": "plaintext"
    }
   },
   "outputs": [],
   "source": [
    "<?php\n",
    "    class Detalleses{\n",
    "        public function __construct(){\n",
    "            echo \"Desde la clase de Detalles\";\n",
    "        }\n",
    "    }\n",
    "?>"
   ]
  },
  {
   "cell_type": "markdown",
   "metadata": {},
   "source": [
    "clase main "
   ]
  },
  {
   "cell_type": "markdown",
   "metadata": {},
   "source": [
    "<?php include 'includes/header.php';\n",
    "\n",
    "//Importamos las clases\n",
    "require 'clases/Clientes.php';\n",
    "require 'clases/Detalles.php';\n",
    "\n",
    "\n",
    "//Instanciamos objetos con esas calses \n",
    "$clientes = new Clientes();\n",
    "$detalles = new Detalles();\n",
    "\n",
    "\n",
    "include 'includes/footer.php';"
   ]
  },
  {
   "cell_type": "markdown",
   "metadata": {},
   "source": [
    "otra forma de hacerlo en la clase main seria "
   ]
  },
  {
   "cell_type": "code",
   "execution_count": null,
   "metadata": {
    "vscode": {
     "languageId": "plaintext"
    }
   },
   "outputs": [],
   "source": [
    "<?php include 'includes/header.php';\n",
    "\n",
    "//Creamos una funcion que se encargue de importar las calses\n",
    "function mi_autoload($clase){\n",
    "    //Agregamos la ruta de la cale\n",
    "    require __DIR__ . '/clases/' . $clase . '.php';\n",
    "}\n",
    "//Busca las clases segun la importes \n",
    "spl_autoload_register('mi_autoload');\n",
    "\n",
    "//Instanciamos objetos con esas calses \n",
    "$clientes = new Clientes();\n",
    "echo \"<br>\";\n",
    "$detalles = new Detalles();\n",
    "\n",
    "\n",
    "include 'includes/footer.php';"
   ]
  },
  {
   "cell_type": "markdown",
   "metadata": {},
   "source": [
    "**Namespace**\n",
    "\n",
    "Namespace es una forma de importar una clase a otra y poder colocar en esa clase una funcion con el mismo nombre sin que exista un problema, tomemos como base el ejempro anterior "
   ]
  },
  {
   "cell_type": "code",
   "execution_count": null,
   "metadata": {
    "vscode": {
     "languageId": "plaintext"
    }
   },
   "outputs": [],
   "source": [
    "<?php\n",
    "//agregando namespace se puede volver a declarar una clase con el mismo nombre  \n",
    "    namespace App;\n",
    "    class Clientes{\n",
    "        public function __construct(){\n",
    "            echo \"Desde la clase de Clientes\";\n",
    "        }\n",
    "    }\n",
    "?>"
   ]
  },
  {
   "cell_type": "code",
   "execution_count": null,
   "metadata": {
    "vscode": {
     "languageId": "plaintext"
    }
   },
   "outputs": [],
   "source": [
    "<?php\n",
    "//agregando namespace se puede volver a declarar una clase con el mismo nombre  \n",
    "    namespace App;\n",
    "    class Detalles{\n",
    "        public function __construct(){\n",
    "            echo \"Desde la clase de Detalles\";\n",
    "        }\n",
    "    }\n",
    "?>"
   ]
  },
  {
   "cell_type": "markdown",
   "metadata": {},
   "source": [
    "Y ahora en la calse main podemos excribir cualquier funcion que tenga el mismo nombre que una funcion de las clases Detalles o Clientes "
   ]
  },
  {
   "cell_type": "code",
   "execution_count": null,
   "metadata": {
    "vscode": {
     "languageId": "plaintext"
    }
   },
   "outputs": [],
   "source": [
    "//Volvemos a hacer una clase clentes \n",
    "class Clientes{\n",
    "    public function __construct(){\n",
    "        echo \"Desde 08.php que contiene a los clientes\";\n",
    "    }\n",
    "}\n",
    "\n",
    "\n",
    "//Instanciamos objetos con esas calses pero esta vez con su namespace\n",
    "$clientes = new App\\Clientes();\n",
    "echo \"<br>\";\n",
    "$detalles = new App\\Detalles();\n",
    "echo \"<br>\";\n",
    "$clientes2 = new Clientes();\n",
    "\n",
    "\n",
    "include 'includes/footer.php';"
   ]
  },
  {
   "cell_type": "markdown",
   "metadata": {},
   "source": [
    "Otra forma de hacerlo "
   ]
  },
  {
   "cell_type": "code",
   "execution_count": null,
   "metadata": {
    "vscode": {
     "languageId": "plaintext"
    }
   },
   "outputs": [],
   "source": [
    "<?php include 'includes/header.php';\n",
    "\n",
    "\n",
    "//Creamos una funcion que se encargue de importar las calses\n",
    "\n",
    "function mi_autoload($clase){\n",
    "    //Dividimos la cadena de clase en dos partes despues de que encuentre el simbolo \"\\\"\n",
    "    $partes = explode('\\\\', $clase);\n",
    "\n",
    "    //de esa forma quietamos el \\App de la cadena solo pasando la posicion 2 que es el nombre de la clase\n",
    "    //Agregamos la ruta de la cale\n",
    "    require __DIR__ . '/clases/' . $partes[1] . '.php';\n",
    "}\n",
    "\n",
    "//Busca las clases segun la importes \n",
    "spl_autoload_register('mi_autoload');\n",
    "\n",
    "\n",
    "//Volvemos a hacer una clase clentes \n",
    "class Clientes{\n",
    "    public function __construct(){\n",
    "        echo \"Desde 08.php que contiene a los clientes\";\n",
    "    }\n",
    "}\n",
    "\n",
    "\n",
    "//Instanciamos objetos con esas calses pero esta vez con su namespace\n",
    "$clientes = new App\\Clientes();\n",
    "echo \"<br>\";\n",
    "$detalles = new App\\Detalles();\n",
    "echo \"<br>\";\n",
    "$clientes2 = new Clientes();\n",
    "\n",
    "\n",
    "include 'includes/footer.php';"
   ]
  },
  {
   "cell_type": "markdown",
   "metadata": {},
   "source": [
    "Otra forma de instanciar (esta no sirve para duplicar clases pero se instancia con el namespace agregado)"
   ]
  },
  {
   "cell_type": "code",
   "execution_count": null,
   "metadata": {
    "vscode": {
     "languageId": "plaintext"
    }
   },
   "outputs": [],
   "source": [
    "<?php include 'includes/header.php';\n",
    "\n",
    "//Otra forma de instanciar el namespace en otra clase \n",
    "use App\\Clientes;\n",
    "use App\\Detalles;\n",
    "\n",
    "//Creamos una funcion que se encargue de importar las calses\n",
    "\n",
    "function mi_autoload($clase){\n",
    "    //Dividimos la cadena de clase en dos partes despues de que encuentre el simbolo \"\\\"\n",
    "    $partes = explode('\\\\', $clase);\n",
    "\n",
    "    //de esa forma quietamos el \\App de la cadena solo pasando la posicion 2 que es el nombre de la clase\n",
    "    //Agregamos la ruta de la cale\n",
    "    require __DIR__ . '/clases/' . $partes[1] . '.php';\n",
    "}\n",
    "\n",
    "//Busca las clases segun la importes \n",
    "spl_autoload_register('mi_autoload');\n",
    "\n",
    "\n",
    "\n",
    "//Instanciamos objetos con esas calses pero esta vez con su namespace\n",
    "$clientes = new Clientes();\n",
    "echo \"<br>\";\n",
    "$detalles = new Detalles();\n",
    "echo \"<br>\";\n",
    "$clientes2 = new Clientes();\n",
    "\n",
    "\n",
    "include 'includes/footer.php';"
   ]
  },
  {
   "cell_type": "markdown",
   "metadata": {},
   "source": [
    "**COMPOSER**\n",
    "\n",
    "Composer es una estencion que nos permite descargar codigo para la destion de librerias con funciones ya escritas en forma de librerias, la forma de hacerlo es dirigirse a la pagina de composer despues intalar el .exe y verificar que la ruta se encuentra en el PATH de las variables de entorno, despues puedes inicializarlo en cmd"
   ]
  },
  {
   "cell_type": "code",
   "execution_count": null,
   "metadata": {
    "vscode": {
     "languageId": "plaintext"
    }
   },
   "outputs": [],
   "source": [
    "Microsoft Windows [Versión 10.0.19045.4651]\n",
    "(c) Microsoft Corporation. Todos los derechos reservados.\n",
    "\n",
    "C:\\Users\\tachy\\OneDrive\\Desktop\\PoryectosProgramacion\\DesarrolloWeb\\Curso_PHP_MySQL\\03_POOconPHP>composer init\n",
    "\n",
    "\n",
    "     \n",
    "  Welcome to the Composer config generator  \n",
    "\n",
    "     \n",
    "\n",
    "\n",
    "This command will guide you through creating your composer.json config.       \n",
    " \n",
    "Package name (<vendor>/<name>) [tachy/03_po-ocon-php]:\n",
    "Description []: aprendiendo namespace y autoload\n",
    "Author [Gabriel <tachyquellora123@gmail.com>, n to skip]: Tachy <tachyquellora123@gamil.com>\n",
    "Minimum Stability []:\n",
    "Package Type (e.g. library, project, metapackage, composer-plugin) []: \n",
    "License []: \n",
    "\n",
    "Define your dependencies.\n",
    "\n",
    "Would you like to define your dependencies (require) interactively [yes]? no\n",
    "Would you like to define your dev dependencies (require-dev) interactively [yes]? no\n",
    "Add PSR-4 autoload mapping? Maps namespace \"Tachy\\03PoOconPhp\" to the entered relative path. [src/, n to skip]:\n",
    "\n",
    "{\n",
    "    \"name\": \"tachy/03_po-ocon-php\",\n",
    "    \"description\": \"aprendiendo namespace y autoload\",\n",
    "    \"autoload\": {\n",
    "        \"psr-4\": {\n",
    "            \"Tachy\\\\03PoOconPhp\\\\\": \"src/\"\n",
    "        }\n",
    "    },\n",
    "    \"authors\": [\n",
    "        {\n",
    "            \"name\": \"Tachy\",\n",
    "            \"email\": \"tachyquellora123@gamil.com\"\n",
    "        }\n",
    "    ],\n",
    "    \"require\": {}\n",
    "}\n",
    "\n",
    "Do you confirm generation [yes]? yes\n",
    "Generating autoload files\n",
    "Generated autoload files\n",
    "PSR-4 autoloading configured. Use \"namespace Tachy\\03PoOconPhp;\" in src/\n",
    "Include the Composer autoloader with: require 'vendor/autoload.php';\n",
    "\n",
    "C:\\Users\\tachy\\OneDrive\\Desktop\\PoryectosProgramacion\\DesarrolloWeb\\Curso_PHP_MySQL\\03_POOconPHP>composer update\n",
    "Loading composer repositories with package information\n",
    "Updating dependencies\n",
    "Nothing to modify in lock file\n",
    "Writing lock file\n",
    "Installing dependencies from lock file (including require-dev)\n",
    "Nothing to install, update or remove\n",
    "Generating autoload files\n",
    "No installed packages - skipping audit.\n",
    "\n",
    "C:\\Users\\tachy\\OneDrive\\Desktop\\PoryectosProgramacion\\DesarrolloWeb\\Curso_PHP_MySQL\\03_POOconPHP>"
   ]
  },
  {
   "cell_type": "markdown",
   "metadata": {},
   "source": [
    "**Conectar PHP con MySQL de una nueva manera**\n"
   ]
  },
  {
   "cell_type": "code",
   "execution_count": null,
   "metadata": {
    "vscode": {
     "languageId": "plaintext"
    }
   },
   "outputs": [],
   "source": [
    "<?php include 'includes/header.php';\n",
    "//Conectar a la base de datos conn Mysqli\n",
    "$db = new mysqli('localhost','root','tachyeldragon123','appsalon');\n",
    "\n",
    "//Agregamos la variable que tendra el query\n",
    "$query = \"SELECT * FROM citas;\";\n",
    "//Ahora aplicamos a la variable que tiene la conexion el query que escribimos \n",
    "$resultado = $db->query($query);\n",
    "\n",
    "//Desplegamos el resultado del query\n",
    "while($row = $resultado->fetch_assoc()){\n",
    "    var_dump($row);\n",
    "}\n",
    "\n",
    "include 'includes/footer.php';"
   ]
  },
  {
   "cell_type": "markdown",
   "metadata": {},
   "source": [
    "**Conectar PHP con MySQL de una forma mas rapida y segura**"
   ]
  },
  {
   "cell_type": "code",
   "execution_count": null,
   "metadata": {
    "vscode": {
     "languageId": "plaintext"
    }
   },
   "outputs": [],
   "source": [
    "<?php include 'includes/header.php';\n",
    "//Conectar a la base de datos conn Mysqli\n",
    "$db = new mysqli('localhost','root','tachyeldragon123','appsalon');\n",
    "\n",
    "//Agregamos la variable que tendra el query\n",
    "$query = \"SELECT fecha FROM citas;\";\n",
    "\n",
    "//Preparamos stm que es la variable que contendra las faces de la consulta del query\n",
    "$stmt = $db->prepare($query);\n",
    "\n",
    "//Ejecutamos la consulta \n",
    "$stmt->execute();\n",
    "\n",
    "//Creamos la variable en donde se conendra el resultado\n",
    "$stmt->bind_result($titulo);\n",
    "\n",
    "//asignamos el resultado\n",
    "$stmt->fetch();\n",
    "\n",
    "//Imprimir el resultado\n",
    "var_dump($titulo);\n",
    "\n",
    "include 'includes/footer.php';"
   ]
  },
  {
   "cell_type": "markdown",
   "metadata": {},
   "source": [
    "para agregar mas columnas al resultado"
   ]
  },
  {
   "cell_type": "code",
   "execution_count": null,
   "metadata": {
    "vscode": {
     "languageId": "plaintext"
    }
   },
   "outputs": [],
   "source": [
    "<?php include 'includes/header.php';\n",
    "//Conectar a la base de datos conn Mysqli\n",
    "$db = new mysqli('localhost','root','tachyeldragon123','appsalon');\n",
    "\n",
    "//Agregamos la variable que tendra el query\n",
    "$query = \"SELECT fecha, hora FROM citas;\";\n",
    "\n",
    "//Preparamos stm que es la variable que contendra las faces de la consulta del query\n",
    "$stmt = $db->prepare($query);\n",
    "\n",
    "//Ejecutamos la consulta \n",
    "$stmt->execute();\n",
    "\n",
    "//Creamos la variable en donde se conendra el resultado\n",
    "$stmt->bind_result($titulo,$hora);\n",
    "\n",
    "//asignamos el resultado\n",
    "$stmt->fetch();\n",
    "\n",
    "//Imprimir el resultado\n",
    "var_dump($titulo);\n",
    "var_dump($hora);\n",
    "\n",
    "echo \"<br>\";\n",
    "\n",
    "//Para iprimar todas o varias \n",
    "while($stmt->fetch()){\n",
    "    var_dump($titulo);\n",
    "    var_dump($hora);\n",
    "}\n",
    "\n",
    "include 'includes/footer.php';"
   ]
  },
  {
   "cell_type": "markdown",
   "metadata": {},
   "source": [
    "**Conectar con PDO**\n",
    "\n",
    "hasta ahora solo hemos usado los metodos de mysqli que sirven exclusivamente para bases de datos mysql, PDO sirve par aconectarse a diferentes basaes de datos como los son postgres o mongo db y por supuesto mysql"
   ]
  },
  {
   "cell_type": "markdown",
   "metadata": {},
   "source": [
    "si sentencias preparadas"
   ]
  },
  {
   "cell_type": "code",
   "execution_count": null,
   "metadata": {
    "vscode": {
     "languageId": "plaintext"
    }
   },
   "outputs": [],
   "source": [
    "<?php include 'includes/header.php';\n",
    "\n",
    "//Conectams a la BD con PDO \n",
    "$db = new PDO('mysql:host=localhost; dbname=appsalon', 'root' ,'tachyeldragon123');\n",
    "\n",
    "//Agregamos la variable que tendra el query\n",
    "$query = \"SELECT fecha FROM citas;\";\n",
    "\n",
    "//Consultar la base de datos \n",
    "$propiedades = $db->query($query)->fetchObject();\n",
    "\n",
    "var_dump($propiedades);\n",
    "\n",
    "\n",
    "include 'includes/footer.php';"
   ]
  },
  {
   "cell_type": "markdown",
   "metadata": {},
   "source": [
    "con sentencias preparadas"
   ]
  },
  {
   "cell_type": "code",
   "execution_count": null,
   "metadata": {
    "vscode": {
     "languageId": "plaintext"
    }
   },
   "outputs": [],
   "source": [
    "<?php include 'includes/header.php';\n",
    "\n",
    "//Conectams a la BD con PDO \n",
    "$db = new PDO('mysql:host=localhost; dbname=appsalon', 'root' ,'tachyeldragon123');\n",
    "\n",
    "//Agregamos la variable que tendra el query\n",
    "$query = \"SELECT fecha, hora FROM citas;\";\n",
    "\n",
    "//Lo preparamos\n",
    "$stmt = $db->prepare($query);\n",
    "\n",
    "//Lo ejecutamos\n",
    "$stmt->execute();\n",
    "\n",
    "//Obtenemos los resultados\n",
    "$resultado = $stmt->fetchAll();\n",
    "\n",
    "//Para mostrarlo\n",
    "echo \"<br>\";\n",
    "var_dump($resultado);\n",
    "echo \"<br>\";\n",
    "//Para mostara todo \n",
    "foreach($resultado as $propiedad):\n",
    "    echo \"<br>\";\n",
    "    echo $propiedad['fecha'];\n",
    "    echo \"<br>\";\n",
    "    echo $propiedad['hora'];\n",
    "endforeach;    \n",
    "\n",
    "include 'includes/footer.php';"
   ]
  }
 ],
 "metadata": {
  "language_info": {
   "name": "python"
  }
 },
 "nbformat": 4,
 "nbformat_minor": 2
}
