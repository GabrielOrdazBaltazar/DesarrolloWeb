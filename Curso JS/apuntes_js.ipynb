{
 "cells": [
  {
   "cell_type": "markdown",
   "metadata": {},
   "source": [
    "**CURSO JS**\n",
    "\n",
    "jS es un leguaje de programacionpara darle funcionalidad a paginas web, pero tambien sirven par conectar con el backend "
   ]
  },
  {
   "cell_type": "code",
   "execution_count": null,
   "metadata": {
    "vscode": {
     "languageId": "plaintext"
    }
   },
   "outputs": [],
   "source": [
    "    <!--Definimos el codigo de js en htmp con las siguientes eticquetas-->\n",
    "    <script>\n",
    "        alert(\"Hola mundo\");\n",
    "    </script>"
   ]
  },
  {
   "cell_type": "markdown",
   "metadata": {},
   "source": [
    "Se recomienda que js este en su propio archivo, agregamos ese archivo de la siguiente manera, por convencion esta etiqueta se coloca antes de la etiqueta de cierre de body en el html\n"
   ]
  },
  {
   "cell_type": "code",
   "execution_count": null,
   "metadata": {
    "vscode": {
     "languageId": "plaintext"
    }
   },
   "outputs": [],
   "source": [
    "<script src=\"js/scripts.js\"></script>"
   ]
  },
  {
   "cell_type": "markdown",
   "metadata": {},
   "source": [
    "**Variables en js**"
   ]
  },
  {
   "cell_type": "code",
   "execution_count": null,
   "metadata": {
    "vscode": {
     "languageId": "plaintext"
    }
   },
   "outputs": [],
   "source": [
    "//variables \n",
    "var producto = 'Audifonos Gamer';\n",
    "var disponible;\n",
    "\n",
    "disponible = true;\n",
    "\n",
    "//Variable compuesta\n",
    "var producto1 = 'Computadora',\n",
    "    disponible1 = true,\n",
    "    categoria = 'Computadores';\n",
    "\n",
    "//Estilos de varables\n",
    "var nombre_producto ='Monitor HD';//underscore \n",
    "var nombre_Producto = 'Monitor HD';//camelcase\n",
    "var NombreProducto = 'Monitor HD';//Pascal case comunmente utilizado para nombrar clases\n",
    "var nombreproducto = 'Monitor HD';\n",
    "\n",
    "\n",
    "//Enviar mensajes a la consola \n",
    "console.log(producto);"
   ]
  },
  {
   "cell_type": "markdown",
   "metadata": {},
   "source": [
    "otra forma "
   ]
  },
  {
   "cell_type": "code",
   "execution_count": null,
   "metadata": {
    "vscode": {
     "languageId": "plaintext"
    }
   },
   "outputs": [],
   "source": [
    "//variables \n",
    "let producto = 'Audifonos Gamer';\n",
    "let disponible;\n",
    "\n",
    "disponible = true;\n",
    "\n",
    "//Variable compuesta\n",
    "let producto1 = 'Computadora',\n",
    "    disponible1 = true,\n",
    "    categoria = 'Computadores';\n",
    "\n",
    "//Estilos de varables\n",
    "let nombre_producto ='Monitor HD';//underscore \n",
    "let nombre_Producto = 'Monitor HD';//camelcase\n",
    "let NombreProducto = 'Monitor HD';//Pascal case comunmente utilizado para nombrar clases\n",
    "let nombreproducto = 'Monitor HD';\n",
    "\n",
    "\n",
    "//Enviar mensajes a la consola \n",
    "console.log(producto);"
   ]
  },
  {
   "cell_type": "markdown",
   "metadata": {},
   "source": [
    "para declarar constantes usamos el prefijo const"
   ]
  },
  {
   "cell_type": "code",
   "execution_count": null,
   "metadata": {
    "vscode": {
     "languageId": "plaintext"
    }
   },
   "outputs": [],
   "source": [
    "conts producto = 'tv';"
   ]
  },
  {
   "cell_type": "markdown",
   "metadata": {},
   "source": [
    "**Metodos String**"
   ]
  },
  {
   "cell_type": "code",
   "execution_count": null,
   "metadata": {
    "vscode": {
     "languageId": "plaintext"
    }
   },
   "outputs": [],
   "source": [
    "const tweet = 'Aprendiendo JavaScript con el curso de Desarrollo Web Completo';\n",
    "const producto2 = 'Monitor 40\"';\n",
    "\n",
    "//Para saber el  numero de caracteres\n",
    "console.log(tweet.length);\n",
    "console.log(producto2);\n",
    "\n",
    "//IndexOf busca un elemento en especifico en un string y retorna la psision\n",
    "console.log(tweet.indexOf('JavaScript'));\n",
    "//Cuando no lo encuentra manda un -1 \n",
    "console.log(producto2.indexOf('Tablet'));\n",
    "\n",
    "//Include nos sirve para buscar un elemento en especifico y retorna uun true o un false \n",
    "console.log(tweet.includes('JavaScript'));\n",
    "console.log(producto2.includes('Tablet'));"
   ]
  },
  {
   "cell_type": "markdown",
   "metadata": {},
   "source": [
    "**Operadores basicos**"
   ]
  },
  {
   "cell_type": "code",
   "execution_count": null,
   "metadata": {
    "vscode": {
     "languageId": "plaintext"
    }
   },
   "outputs": [],
   "source": [
    "const numero1 = 100;\n",
    "const numero2 = 200;\n",
    "\n",
    "//Operadores\n",
    "console.log(numero1 + numero2);\n",
    "console.log(numero1 - numero2);\n",
    "console.log(numero1 * numero2);\n",
    "console.log(numero1 / numero2);\n",
    "console.log(numero1 % numero2);\n"
   ]
  },
  {
   "cell_type": "markdown",
   "metadata": {},
   "source": [
    "**Funciones math**"
   ]
  },
  {
   "cell_type": "code",
   "execution_count": null,
   "metadata": {
    "vscode": {
     "languageId": "plaintext"
    }
   },
   "outputs": [],
   "source": [
    "//Operadores math\n",
    "let resultado;\n",
    "\n",
    "//Numero PI\n",
    "resultado = Math.PI;\n",
    "console.log(resultado);\n",
    "\n",
    "//Redondear \n",
    "resultado = Math.round(2.5);\n",
    "console.log(resultado);\n",
    "\n",
    "//Redondear siempre hacia arriba \n",
    "resultado = Math.ceil(2.1);\n",
    "console.log(resultado);\n",
    "\n",
    "//Redondear siempre hacia abajo\n",
    "resultado = Math.floor(2.1);\n",
    "console.log(resultado);\n",
    "\n",
    "//Raiz cuadrada\n",
    "resultado = Math.sqrt(144);\n",
    "console.log(resultado);\n",
    "\n",
    "//Convertir de negativo a positivo\n",
    "resultado = Math.abs(-300);\n",
    "console.log(resultado);\n",
    "\n",
    "//Encontrar el minimo \n",
    "resultado = Math.min(3,5,6,7,8,0,0,2,4);\n",
    "console.log(resultado);\n",
    "\n",
    "//Encontrar el maximo \n",
    "resultado = Math.max(3,5,6,7,8,0,0,2,4);\n",
    "console.log(resultado);\n",
    "\n",
    "//Numero aleatorio\n",
    "resultado = Math.random();\n",
    "console.log(resultado);\n",
    "//Ahora con numeros >1\n",
    "resultado = Math.floor(Math.random()*10);\n",
    "console.log(resultado);"
   ]
  },
  {
   "cell_type": "markdown",
   "metadata": {},
   "source": [
    "**Orden de las operaciones**"
   ]
  },
  {
   "cell_type": "code",
   "execution_count": null,
   "metadata": {
    "vscode": {
     "languageId": "plaintext"
    }
   },
   "outputs": [],
   "source": [
    "//Orden de las operaciones \n",
    "let resultado;\n",
    "\n",
    "//Prioridad por ley de operadores\n",
    "resultado = 20 + 30 * 2;\n",
    "console.log(resultado);\n",
    "\n",
    "//Prioridad por parentecis \n",
    "resultado = (20 + 30) * 2;\n",
    "console.log(resultado);\n",
    "\n",
    "//Incrementos \n",
    "let puntaje = 10;\n",
    "console.log(puntaje);\n",
    "\n",
    "//Incrementamos en 1 \n",
    "console.log(puntaje++);\n",
    "//primero imprime despues aumenta \n",
    "puntaje++;\n",
    "console.log(puntaje);\n",
    "//primero incrementa despues muestra\n",
    "++puntaje;\n",
    "console.log(puntaje);\n",
    "\n",
    "//sumas en cantidades \n",
    "puntaje += 10;\n",
    "console.log(puntaje);\n",
    "//Decrementos \n",
    "puntaje--;\n",
    "console.log(puntaje);"
   ]
  },
  {
   "cell_type": "markdown",
   "metadata": {},
   "source": [
    "**Concatenacion de Strings**\n"
   ]
  },
  {
   "cell_type": "code",
   "execution_count": null,
   "metadata": {
    "vscode": {
     "languageId": "plaintext"
    }
   },
   "outputs": [],
   "source": [
    "const nombre ='Juan';\n",
    "const email ='correo@correo.com';\n",
    "\n",
    "console.log(nombre);\n",
    "console.log(email);\n",
    "\n",
    "//Concatenando \n",
    "console.log('Nombre cliente: ' +nombre + ' Email: ' + email);\n",
    "//Concatenando de otra foram \n",
    "console.log('Nombre cliente: ',nombre,' Email: ',email);\n",
    "//Concatenando de otra foram \n",
    "console.log(`Nombre del cliente: ${nombre} Email ${email}`);"
   ]
  },
  {
   "cell_type": "markdown",
   "metadata": {},
   "source": [
    "**Booleanos**"
   ]
  },
  {
   "cell_type": "code",
   "execution_count": null,
   "metadata": {
    "vscode": {
     "languageId": "plaintext"
    }
   },
   "outputs": [],
   "source": [
    "//Boleanos \n",
    "const boolean1 = true;\n",
    "const boolean2 = false;\n",
    "\n",
    "console.log(boolean1);\n",
    "console.log(boolean2);\n",
    "\n",
    "//Otra forma \n",
    "const boolean3 = new Boolean(true);\n",
    "console.log(boolean3);"
   ]
  }
 ],
 "metadata": {
  "language_info": {
   "name": "python"
  }
 },
 "nbformat": 4,
 "nbformat_minor": 2
}
